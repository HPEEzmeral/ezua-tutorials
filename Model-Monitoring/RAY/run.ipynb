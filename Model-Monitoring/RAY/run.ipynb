{
 "cells": [
  {
   "cell_type": "code",
   "execution_count": 18,
   "metadata": {},
   "outputs": [],
   "source": [
    "import ray\n",
    "from ray.job_submission import JobSubmissionClient\n",
    "import time\n",
    "from ray.runtime_env import RuntimeEnv"
   ]
  },
  {
   "cell_type": "code",
   "execution_count": 19,
   "metadata": {},
   "outputs": [],
   "source": [
    "# Ray cluster information\n",
    "ray_head_ip = \"kuberay-head-svc.kuberay.svc.cluster.local\"\n",
    "ray_head_port = 8265\n",
    "ray_address = f\"http://{ray_head_ip}:{ray_head_port}\""
   ]
  },
  {
   "cell_type": "code",
   "execution_count": 20,
   "metadata": {},
   "outputs": [
    {
     "name": "stderr",
     "output_type": "stream",
     "text": [
      "2024-10-23 16:16:57,137\tINFO dashboard_sdk.py:338 -- Uploading package gcs://_ray_pkg_8c7d245da70f9edd.zip.\n",
      "2024-10-23 16:16:57,138\tINFO packaging.py:530 -- Creating a file package for local directory './'.\n"
     ]
    },
    {
     "name": "stdout",
     "output_type": "stream",
     "text": [
      "Ray job submitted with job_id: raysubmit_4Zth1AthLJzKjdAW\n",
      "Generated number of images: 100\n",
      "Logged image columns summary: {'counts/n': 1, 'counts/null': 0, 'counts/nan': 0, 'counts/inf': 0, 'counts/true': 0, 'types/integral': 1, 'types/fractional': 0, 'types/boolean': 0, 'types/string': 0, 'types/object': 0, 'types/tensor': 0, 'distribution/mean': 7.0, 'distribution/stddev': 0.0, 'distribution/n': 1, 'distribution/max': 7.0, 'distribution/min': 7.0, 'distribution/q_01': 7.0, 'distribution/q_05': 7.0, 'distribution/q_10': 7.0, 'distribution/q_25': 7.0, 'distribution/median': 7.0, 'distribution/q_75': 7.0, 'distribution/q_90': 7.0, 'distribution/q_95': 7.0, 'distribution/q_99': 7.0, 'ints/max': 7, 'ints/min': 7, 'cardinality/est': 1.0, 'cardinality/upper_1': 1.000049929250618, 'cardinality/lower_1': 1.0, 'frequent_items/frequent_strings': [FrequentItem(value='7', est=1, upper=1, lower=1)]}\n",
      "Logged image columns sum: {'counts/n': 1, 'counts/null': 0, 'counts/nan': 0, 'counts/inf': 0, 'counts/true': 0, 'types/integral': 0, 'types/fractional': 1, 'types/boolean': 0, 'types/string': 0, 'types/object': 0, 'types/tensor': 0, 'cardinality/est': 1.0, 'cardinality/upper_1': 1.000049929250618, 'cardinality/lower_1': 1.0, 'distribution/mean': 614278.0, 'distribution/stddev': 0.0, 'distribution/n': 1, 'distribution/max': 614278.0, 'distribution/min': 614278.0, 'distribution/q_01': 614278.0, 'distribution/q_05': 614278.0, 'distribution/q_10': 614278.0, 'distribution/q_25': 614278.0, 'distribution/median': 614278.0, 'distribution/q_75': 614278.0, 'distribution/q_90': 614278.0, 'distribution/q_95': 614278.0, 'distribution/q_99': 614278.0}\n",
      "Logged image columns images: {'image/ImagePixelWidth:counts/n': 1, 'image/ImagePixelWidth:counts/null': 0, 'image/ImagePixelWidth:counts/nan': 0, 'image/ImagePixelWidth:counts/inf': 0, 'image/ImagePixelWidth:counts/true': 0, 'image/ImagePixelWidth:types/integral': 1, 'image/ImagePixelWidth:types/fractional': 0, 'image/ImagePixelWidth:types/boolean': 0, 'image/ImagePixelWidth:types/string': 0, 'image/ImagePixelWidth:types/object': 0, 'image/ImagePixelWidth:types/tensor': 0, 'image/ImagePixelWidth:cardinality/est': 1.0, 'image/ImagePixelWidth:cardinality/upper_1': 1.000049929250618, 'image/ImagePixelWidth:cardinality/lower_1': 1.0, 'image/ImagePixelWidth:distribution/mean': 256.0, 'image/ImagePixelWidth:distribution/stddev': 0.0, 'image/ImagePixelWidth:distribution/n': 1, 'image/ImagePixelWidth:distribution/max': 256.0, 'image/ImagePixelWidth:distribution/min': 256.0, 'image/ImagePixelWidth:distribution/q_01': 256.0, 'image/ImagePixelWidth:distribution/q_05': 256.0, 'image/ImagePixelWidth:distribution/q_10': 256.0, 'image/ImagePixelWidth:distribution/q_25': 256.0, 'image/ImagePixelWidth:distribution/median': 256.0, 'image/ImagePixelWidth:distribution/q_75': 256.0, 'image/ImagePixelWidth:distribution/q_90': 256.0, 'image/ImagePixelWidth:distribution/q_95': 256.0, 'image/ImagePixelWidth:distribution/q_99': 256.0, 'image/ImagePixelWidth:ints/max': 256, 'image/ImagePixelWidth:ints/min': 256, 'image/ImagePixelWidth:frequent_items/frequent_strings': [FrequentItem(value='256', est=1, upper=1, lower=1)], 'image/ImagePixelHeight:counts/n': 1, 'image/ImagePixelHeight:counts/null': 0, 'image/ImagePixelHeight:counts/nan': 0, 'image/ImagePixelHeight:counts/inf': 0, 'image/ImagePixelHeight:counts/true': 0, 'image/ImagePixelHeight:types/integral': 1, 'image/ImagePixelHeight:types/fractional': 0, 'image/ImagePixelHeight:types/boolean': 0, 'image/ImagePixelHeight:types/string': 0, 'image/ImagePixelHeight:types/object': 0, 'image/ImagePixelHeight:types/tensor': 0, 'image/ImagePixelHeight:cardinality/est': 1.0, 'image/ImagePixelHeight:cardinality/upper_1': 1.000049929250618, 'image/ImagePixelHeight:cardinality/lower_1': 1.0, 'image/ImagePixelHeight:distribution/mean': 256.0, 'image/ImagePixelHeight:distribution/stddev': 0.0, 'image/ImagePixelHeight:distribution/n': 1, 'image/ImagePixelHeight:distribution/max': 256.0, 'image/ImagePixelHeight:distribution/min': 256.0, 'image/ImagePixelHeight:distribution/q_01': 256.0, 'image/ImagePixelHeight:distribution/q_05': 256.0, 'image/ImagePixelHeight:distribution/q_10': 256.0, 'image/ImagePixelHeight:distribution/q_25': 256.0, 'image/ImagePixelHeight:distribution/median': 256.0, 'image/ImagePixelHeight:distribution/q_75': 256.0, 'image/ImagePixelHeight:distribution/q_90': 256.0, 'image/ImagePixelHeight:distribution/q_95': 256.0, 'image/ImagePixelHeight:distribution/q_99': 256.0, 'image/ImagePixelHeight:ints/max': 256, 'image/ImagePixelHeight:ints/min': 256, 'image/ImagePixelHeight:frequent_items/frequent_strings': [FrequentItem(value='256', est=1, upper=1, lower=1)], 'image/Colorspace:counts/n': 1, 'image/Colorspace:counts/null': 0, 'image/Colorspace:counts/nan': 0, 'image/Colorspace:counts/inf': 0, 'image/Colorspace:counts/true': 0, 'image/Colorspace:types/integral': 0, 'image/Colorspace:types/fractional': 0, 'image/Colorspace:types/boolean': 0, 'image/Colorspace:types/string': 1, 'image/Colorspace:types/object': 0, 'image/Colorspace:types/tensor': 0, 'image/Colorspace:cardinality/est': 1.0, 'image/Colorspace:cardinality/upper_1': 1.000049929250618, 'image/Colorspace:cardinality/lower_1': 1.0, 'image/Colorspace:frequent_items/frequent_strings': [FrequentItem(value='L', est=1, upper=1, lower=1)], 'image/entropy:counts/n': 1, 'image/entropy:counts/null': 0, 'image/entropy:counts/nan': 0, 'image/entropy:counts/inf': 0, 'image/entropy:counts/true': 0, 'image/entropy:types/integral': 0, 'image/entropy:types/fractional': 1, 'image/entropy:types/boolean': 0, 'image/entropy:types/string': 0, 'image/entropy:types/object': 0, 'image/entropy:types/tensor': 0, 'image/entropy:cardinality/est': 1.0, 'image/entropy:cardinality/upper_1': 1.000049929250618, 'image/entropy:cardinality/lower_1': 1.0, 'image/entropy:distribution/mean': 2.8911258037424057, 'image/entropy:distribution/stddev': 0.0, 'image/entropy:distribution/n': 1, 'image/entropy:distribution/max': 2.8911258037424057, 'image/entropy:distribution/min': 2.8911258037424057, 'image/entropy:distribution/q_01': 2.8911258037424057, 'image/entropy:distribution/q_05': 2.8911258037424057, 'image/entropy:distribution/q_10': 2.8911258037424057, 'image/entropy:distribution/q_25': 2.8911258037424057, 'image/entropy:distribution/median': 2.8911258037424057, 'image/entropy:distribution/q_75': 2.8911258037424057, 'image/entropy:distribution/q_90': 2.8911258037424057, 'image/entropy:distribution/q_95': 2.8911258037424057, 'image/entropy:distribution/q_99': 2.8911258037424057, 'image/Hue.mean:counts/n': 1, 'image/Hue.mean:counts/null': 0, 'image/Hue.mean:counts/nan': 0, 'image/Hue.mean:counts/inf': 0, 'image/Hue.mean:counts/true': 0, 'image/Hue.mean:types/integral': 0, 'image/Hue.mean:types/fractional': 1, 'image/Hue.mean:types/boolean': 0, 'image/Hue.mean:types/string': 0, 'image/Hue.mean:types/object': 0, 'image/Hue.mean:types/tensor': 0, 'image/Hue.mean:cardinality/est': 1.0, 'image/Hue.mean:cardinality/upper_1': 1.000049929250618, 'image/Hue.mean:cardinality/lower_1': 1.0, 'image/Hue.mean:distribution/mean': 0.0, 'image/Hue.mean:distribution/stddev': 0.0, 'image/Hue.mean:distribution/n': 1, 'image/Hue.mean:distribution/max': 0.0, 'image/Hue.mean:distribution/min': 0.0, 'image/Hue.mean:distribution/q_01': 0.0, 'image/Hue.mean:distribution/q_05': 0.0, 'image/Hue.mean:distribution/q_10': 0.0, 'image/Hue.mean:distribution/q_25': 0.0, 'image/Hue.mean:distribution/median': 0.0, 'image/Hue.mean:distribution/q_75': 0.0, 'image/Hue.mean:distribution/q_90': 0.0, 'image/Hue.mean:distribution/q_95': 0.0, 'image/Hue.mean:distribution/q_99': 0.0, 'image/Hue.stddev:counts/n': 1, 'image/Hue.stddev:counts/null': 0, 'image/Hue.stddev:counts/nan': 0, 'image/Hue.stddev:counts/inf': 0, 'image/Hue.stddev:counts/true': 0, 'image/Hue.stddev:types/integral': 0, 'image/Hue.stddev:types/fractional': 1, 'image/Hue.stddev:types/boolean': 0, 'image/Hue.stddev:types/string': 0, 'image/Hue.stddev:types/object': 0, 'image/Hue.stddev:types/tensor': 0, 'image/Hue.stddev:cardinality/est': 1.0, 'image/Hue.stddev:cardinality/upper_1': 1.000049929250618, 'image/Hue.stddev:cardinality/lower_1': 1.0, 'image/Hue.stddev:distribution/mean': 0.0, 'image/Hue.stddev:distribution/stddev': 0.0, 'image/Hue.stddev:distribution/n': 1, 'image/Hue.stddev:distribution/max': 0.0, 'image/Hue.stddev:distribution/min': 0.0, 'image/Hue.stddev:distribution/q_01': 0.0, 'image/Hue.stddev:distribution/q_05': 0.0, 'image/Hue.stddev:distribution/q_10': 0.0, 'image/Hue.stddev:distribution/q_25': 0.0, 'image/Hue.stddev:distribution/median': 0.0, 'image/Hue.stddev:distribution/q_75': 0.0, 'image/Hue.stddev:distribution/q_90': 0.0, 'image/Hue.stddev:distribution/q_95': 0.0, 'image/Hue.stddev:distribution/q_99': 0.0, 'image/Saturation.mean:counts/n': 1, 'image/Saturation.mean:counts/null': 0, 'image/Saturation.mean:counts/nan': 0, 'image/Saturation.mean:counts/inf': 0, 'image/Saturation.mean:counts/true': 0, 'image/Saturation.mean:types/integral': 0, 'image/Saturation.mean:types/fractional': 1, 'image/Saturation.mean:types/boolean': 0, 'image/Saturation.mean:types/string': 0, 'image/Saturation.mean:types/object': 0, 'image/Saturation.mean:types/tensor': 0, 'image/Saturation.mean:cardinality/est': 1.0, 'image/Saturation.mean:cardinality/upper_1': 1.000049929250618, 'image/Saturation.mean:cardinality/lower_1': 1.0, 'image/Saturation.mean:distribution/mean': 0.0, 'image/Saturation.mean:distribution/stddev': 0.0, 'image/Saturation.mean:distribution/n': 1, 'image/Saturation.mean:distribution/max': 0.0, 'image/Saturation.mean:distribution/min': 0.0, 'image/Saturation.mean:distribution/q_01': 0.0, 'image/Saturation.mean:distribution/q_05': 0.0, 'image/Saturation.mean:distribution/q_10': 0.0, 'image/Saturation.mean:distribution/q_25': 0.0, 'image/Saturation.mean:distribution/median': 0.0, 'image/Saturation.mean:distribution/q_75': 0.0, 'image/Saturation.mean:distribution/q_90': 0.0, 'image/Saturation.mean:distribution/q_95': 0.0, 'image/Saturation.mean:distribution/q_99': 0.0, 'image/Saturation.stddev:counts/n': 1, 'image/Saturation.stddev:counts/null': 0, 'image/Saturation.stddev:counts/nan': 0, 'image/Saturation.stddev:counts/inf': 0, 'image/Saturation.stddev:counts/true': 0, 'image/Saturation.stddev:types/integral': 0, 'image/Saturation.stddev:types/fractional': 1, 'image/Saturation.stddev:types/boolean': 0, 'image/Saturation.stddev:types/string': 0, 'image/Saturation.stddev:types/object': 0, 'image/Saturation.stddev:types/tensor': 0, 'image/Saturation.stddev:cardinality/est': 1.0, 'image/Saturation.stddev:cardinality/upper_1': 1.000049929250618, 'image/Saturation.stddev:cardinality/lower_1': 1.0, 'image/Saturation.stddev:distribution/mean': 0.0, 'image/Saturation.stddev:distribution/stddev': 0.0, 'image/Saturation.stddev:distribution/n': 1, 'image/Saturation.stddev:distribution/max': 0.0, 'image/Saturation.stddev:distribution/min': 0.0, 'image/Saturation.stddev:distribution/q_01': 0.0, 'image/Saturation.stddev:distribution/q_05': 0.0, 'image/Saturation.stddev:distribution/q_10': 0.0, 'image/Saturation.stddev:distribution/q_25': 0.0, 'image/Saturation.stddev:distribution/median': 0.0, 'image/Saturation.stddev:distribution/q_75': 0.0, 'image/Saturation.stddev:distribution/q_90': 0.0, 'image/Saturation.stddev:distribution/q_95': 0.0, 'image/Saturation.stddev:distribution/q_99': 0.0, 'image/Brightness.mean:counts/n': 1, 'image/Brightness.mean:counts/null': 0, 'image/Brightness.mean:counts/nan': 0, 'image/Brightness.mean:counts/inf': 0, 'image/Brightness.mean:counts/true': 0, 'image/Brightness.mean:types/integral': 0, 'image/Brightness.mean:types/fractional': 1, 'image/Brightness.mean:types/boolean': 0, 'image/Brightness.mean:types/string': 0, 'image/Brightness.mean:types/object': 0, 'image/Brightness.mean:types/tensor': 0, 'image/Brightness.mean:cardinality/est': 1.0, 'image/Brightness.mean:cardinality/upper_1': 1.000049929250618, 'image/Brightness.mean:cardinality/lower_1': 1.0, 'image/Brightness.mean:distribution/mean': 9.373138427734375, 'image/Brightness.mean:distribution/stddev': 0.0, 'image/Brightness.mean:distribution/n': 1, 'image/Brightness.mean:distribution/max': 9.373138427734375, 'image/Brightness.mean:distribution/min': 9.373138427734375, 'image/Brightness.mean:distribution/q_01': 9.373138427734375, 'image/Brightness.mean:distribution/q_05': 9.373138427734375, 'image/Brightness.mean:distribution/q_10': 9.373138427734375, 'image/Brightness.mean:distribution/q_25': 9.373138427734375, 'image/Brightness.mean:distribution/median': 9.373138427734375, 'image/Brightness.mean:distribution/q_75': 9.373138427734375, 'image/Brightness.mean:distribution/q_90': 9.373138427734375, 'image/Brightness.mean:distribution/q_95': 9.373138427734375, 'image/Brightness.mean:distribution/q_99': 9.373138427734375, 'image/Brightness.stddev:counts/n': 1, 'image/Brightness.stddev:counts/null': 0, 'image/Brightness.stddev:counts/nan': 0, 'image/Brightness.stddev:counts/inf': 0, 'image/Brightness.stddev:counts/true': 0, 'image/Brightness.stddev:types/integral': 0, 'image/Brightness.stddev:types/fractional': 1, 'image/Brightness.stddev:types/boolean': 0, 'image/Brightness.stddev:types/string': 0, 'image/Brightness.stddev:types/object': 0, 'image/Brightness.stddev:types/tensor': 0, 'image/Brightness.stddev:cardinality/est': 1.0, 'image/Brightness.stddev:cardinality/upper_1': 1.000049929250618, 'image/Brightness.stddev:cardinality/lower_1': 1.0, 'image/Brightness.stddev:distribution/mean': 13.016019647711326, 'image/Brightness.stddev:distribution/stddev': 0.0, 'image/Brightness.stddev:distribution/n': 1, 'image/Brightness.stddev:distribution/max': 13.016019647711326, 'image/Brightness.stddev:distribution/min': 13.016019647711326, 'image/Brightness.stddev:distribution/q_01': 13.016019647711326, 'image/Brightness.stddev:distribution/q_05': 13.016019647711326, 'image/Brightness.stddev:distribution/q_10': 13.016019647711326, 'image/Brightness.stddev:distribution/q_25': 13.016019647711326, 'image/Brightness.stddev:distribution/median': 13.016019647711326, 'image/Brightness.stddev:distribution/q_75': 13.016019647711326, 'image/Brightness.stddev:distribution/q_90': 13.016019647711326, 'image/Brightness.stddev:distribution/q_95': 13.016019647711326, 'image/Brightness.stddev:distribution/q_99': 13.016019647711326}\n",
      "\n"
     ]
    }
   ],
   "source": [
    "# Submit Ray job using JobSubmissionClient\n",
    "client = JobSubmissionClient(ray_address)\n",
    "job_id = client.submit_job(\n",
    "    entrypoint=\"python mandlebrot.py\",\n",
    "    runtime_env={\n",
    "        \"working_dir\": \"./\",\n",
    "        \"pip\": [\"piexif\",\"ipyplot\",\"whylogs[image,whylabs]\", \"matplotlib==3.9.0\"],\n",
    "        \"env_vars\": {\"http_proxy\":\"http://10.78.90.46:80\",\"https_proxy\":\"http://10.78.90.46:80\"}\n",
    "    },\n",
    "    entrypoint_num_cpus=3\n",
    ")\n",
    "\n",
    "print(f\"Ray job submitted with job_id: {job_id}\")\n",
    "\n",
    "# Waiting for Ray to finish the job and print the result\n",
    "while True:\n",
    "    status = client.get_job_status(job_id)\n",
    "    if status in [ray.job_submission.JobStatus.RUNNING, ray.job_submission.JobStatus.PENDING]:\n",
    "        time.sleep(5)\n",
    "    else:\n",
    "        break\n",
    "try:\n",
    "    logs = client.get_job_logs(job_id) \n",
    "    print(logs)\n",
    "except RuntimeError as e:\n",
    "    print(f\"Failed to get job logs, please check logs on ray dashboard \")"
   ]
  },
  {
   "cell_type": "code",
   "execution_count": null,
   "metadata": {},
   "outputs": [],
   "source": []
  }
 ],
 "metadata": {
  "kernelspec": {
   "display_name": "Ray",
   "language": "python",
   "name": "ray"
  },
  "language_info": {
   "codemirror_mode": {
    "name": "ipython",
    "version": 3
   },
   "file_extension": ".py",
   "mimetype": "text/x-python",
   "name": "python",
   "nbconvert_exporter": "python",
   "pygments_lexer": "ipython3",
   "version": "3.11.6"
  }
 },
 "nbformat": 4,
 "nbformat_minor": 4
}
