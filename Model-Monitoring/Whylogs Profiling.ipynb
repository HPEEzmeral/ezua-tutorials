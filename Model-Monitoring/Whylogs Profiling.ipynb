{
 "cells": [
  {
   "cell_type": "markdown",
   "id": "64dc520e-42c8-427c-848b-60bfd125ab66",
   "metadata": {
    "tags": []
   },
   "source": [
    "## Initializing a SparkSession\n",
    "\n",
    "### Execute the cell below and:\n",
    "\n",
    "- Select Add Endpoint\n",
    "- Select Single Sign-On\n",
    "- Select Create Session, selecting language as Python and in properties use \"spark.kubernetes.container.image\": \"gcr.io/mapr-252711/spark-3.4.1:202309170405R\" the whylogs -integerated spark image in properties.\n",
    "- Click Create Session\n",
    "\n",
    "When your session is ready the Manage Sessions pane will become active, providing you the session ID. The session state will become idle which means that you are good to go!"
   ]
  },
  {
   "cell_type": "code",
   "execution_count": 1,
   "id": "a65a34aa-0dfb-4f6f-9d01-75e3f9031cf1",
   "metadata": {
    "tags": []
   },
   "outputs": [
    {
     "data": {
      "application/vnd.jupyter.widget-view+json": {
       "model_id": "ec19c5ec53f34b8b884451b859ec6ebe",
       "version_major": 2,
       "version_minor": 0
      },
      "text/plain": [
       "MagicsControllerWidget(children=(Tab(children=(ManageSessionWidget(children=(HTML(value='<br/>'), HTML(value='…"
      ]
     },
     "metadata": {},
     "output_type": "display_data"
    }
   ],
   "source": [
    "%manage_spark"
   ]
  },
  {
   "cell_type": "code",
   "execution_count": 14,
   "id": "35276080-befc-4c05-9793-bf422c1b7447",
   "metadata": {},
   "outputs": [
    {
     "data": {
      "application/vnd.jupyter.widget-view+json": {
       "model_id": "",
       "version_major": 2,
       "version_minor": 0
      },
      "text/plain": [
       "FloatProgress(value=0.0, bar_style='info', description='Progress:', layout=Layout(height='25px', width='50%'),…"
      ]
     },
     "metadata": {},
     "output_type": "display_data"
    }
   ],
   "source": [
    "import os\n",
    "os.environ['HTTP_PROXY'] = \"http://hpeproxy.its.hpecorp.net:443\"\n",
    "os.environ['HTTPS_PROXY'] = \"http://hpeproxy.its.hpecorp.net:443\""
   ]
  },
  {
   "cell_type": "code",
   "execution_count": 15,
   "id": "da19979d-832d-4090-92b0-9e2c5bd1dfc3",
   "metadata": {},
   "outputs": [
    {
     "data": {
      "application/vnd.jupyter.widget-view+json": {
       "model_id": "",
       "version_major": 2,
       "version_minor": 0
      },
      "text/plain": [
       "FloatProgress(value=0.0, bar_style='info', description='Progress:', layout=Layout(height='25px', width='50%'),…"
      ]
     },
     "metadata": {},
     "output_type": "display_data"
    }
   ],
   "source": [
    "from pyspark.sql import SparkSession\n",
    "spark = SparkSession.builder.appName('whylogs-testing').getOrCreate()\n",
    "arrow_config_key = \"spark.sql.execution.arrow.pyspark.enabled\"\n",
    "spark.conf.set(arrow_config_key, \"true\")"
   ]
  },
  {
   "cell_type": "markdown",
   "id": "6ab0829b-ba9f-45e8-a504-c65776faaf36",
   "metadata": {
    "tags": []
   },
   "source": [
    "For the sake of simplicity, we will read the Wine Quality dataset, available in this URL: \"http://archive.ics.uci.edu/ml/machine-learning-databases/wine-quality/winequality-red.csv\"."
   ]
  },
  {
   "cell_type": "code",
   "execution_count": 16,
   "id": "d0e4b205-bd2a-4c4a-a087-176fcec920f7",
   "metadata": {},
   "outputs": [
    {
     "data": {
      "application/vnd.jupyter.widget-view+json": {
       "model_id": "",
       "version_major": 2,
       "version_minor": 0
      },
      "text/plain": [
       "FloatProgress(value=0.0, bar_style='info', description='Progress:', layout=Layout(height='25px', width='50%'),…"
      ]
     },
     "metadata": {},
     "output_type": "display_data"
    },
    {
     "name": "stdout",
     "output_type": "stream",
     "text": [
      "-RECORD 0----------------------\n",
      " fixed acidity        | 7.4    \n",
      " volatile acidity     | 0.7    \n",
      " citric acid          | 0      \n",
      " residual sugar       | 1.9    \n",
      " chlorides            | 0.076  \n",
      " free sulfur dioxide  | 11     \n",
      " total sulfur dioxide | 34     \n",
      " density              | 0.9978 \n",
      " pH                   | 3.51   \n",
      " sulphates            | 0.56   \n",
      " alcohol              | 9.4    \n",
      " quality              | 5      \n",
      "only showing top 1 row"
     ]
    }
   ],
   "source": [
    "from pyspark import SparkFiles\n",
    "spark_dataframe= spark.read.format('csv').option(\"header\",\"true\").option(\"delimiter\", \";\").load(\"file:///mounts/shared-volume/shared/winequality-red.csv\")\n",
    "\n",
    "spark_dataframe.show(n=1, vertical=True)\n"
   ]
  },
  {
   "cell_type": "markdown",
   "id": "24cbc8ee-755d-418e-b9d6-952f96fceadb",
   "metadata": {
    "tags": []
   },
   "source": [
    "### __Profiling the data with whylogs__\n",
    "Now that we have a Spark DataFrame in place, let's see how easy it is to profile our data with whylogs."
   ]
  },
  {
   "cell_type": "code",
   "execution_count": 17,
   "id": "f9f5a8c3-f158-4401-aea0-b0c70a4efa50",
   "metadata": {},
   "outputs": [
    {
     "data": {
      "application/vnd.jupyter.widget-view+json": {
       "model_id": "",
       "version_major": 2,
       "version_minor": 0
      },
      "text/plain": [
       "FloatProgress(value=0.0, bar_style='info', description='Progress:', layout=Layout(height='25px', width='50%'),…"
      ]
     },
     "metadata": {},
     "output_type": "display_data"
    }
   ],
   "source": [
    "import whylogs\n",
    "from whylogs.api.pyspark.experimental import collect_column_profile_views\n",
    "\n",
    "column_views_dict = collect_column_profile_views(spark_dataframe)"
   ]
  },
  {
   "cell_type": "markdown",
   "id": "6588f1f8-0042-41b6-b150-525c5fe779d2",
   "metadata": {
    "tags": []
   },
   "source": [
    "Yeap. It's done. It is that easy.\n",
    "\n",
    "But what do we get with a column_views_dict?"
   ]
  },
  {
   "cell_type": "code",
   "execution_count": 18,
   "id": "0df41833-77e9-487a-9069-d5b905381c01",
   "metadata": {},
   "outputs": [
    {
     "data": {
      "application/vnd.jupyter.widget-view+json": {
       "model_id": "",
       "version_major": 2,
       "version_minor": 0
      },
      "text/plain": [
       "FloatProgress(value=0.0, bar_style='info', description='Progress:', layout=Layout(height='25px', width='50%'),…"
      ]
     },
     "metadata": {},
     "output_type": "display_data"
    },
    {
     "name": "stdout",
     "output_type": "stream",
     "text": [
      "{'alcohol': <whylogs.core.view.column_profile_view.ColumnProfileView object at 0x7f93467521c0>, 'chlorides': <whylogs.core.view.column_profile_view.ColumnProfileView object at 0x7f934661d760>, 'citric acid': <whylogs.core.view.column_profile_view.ColumnProfileView object at 0x7f9347b822b0>, 'density': <whylogs.core.view.column_profile_view.ColumnProfileView object at 0x7f93465f84f0>, 'fixed acidity': <whylogs.core.view.column_profile_view.ColumnProfileView object at 0x7f9346760df0>, 'free sulfur dioxide': <whylogs.core.view.column_profile_view.ColumnProfileView object at 0x7f9346729130>, 'pH': <whylogs.core.view.column_profile_view.ColumnProfileView object at 0x7f934672dcd0>, 'quality': <whylogs.core.view.column_profile_view.ColumnProfileView object at 0x7f93467348b0>, 'residual sugar': <whylogs.core.view.column_profile_view.ColumnProfileView object at 0x7f934659e490>, 'sulphates': <whylogs.core.view.column_profile_view.ColumnProfileView object at 0x7f9346586fd0>, 'total sulfur dioxide': <whylogs.core.view.column_profile_view.ColumnProfileView object at 0x7f934657cc10>, 'volatile acidity': <whylogs.core.view.column_profile_view.ColumnProfileView object at 0x7f93465ab7f0>}\n",
      "dict_keys(['alcohol', 'chlorides', 'citric acid', 'density', 'fixed acidity', 'free sulfur dioxide', 'pH', 'quality', 'residual sugar', 'sulphates', 'total sulfur dioxide', 'volatile acidity'])"
     ]
    }
   ],
   "source": [
    "print(column_views_dict)\n",
    "print((column_views_dict.keys()))"
   ]
  },
  {
   "cell_type": "markdown",
   "id": "c26852b7-3cae-4b3b-b50d-7614791a96f6",
   "metadata": {
    "tags": []
   },
   "source": [
    "It is a dictionary with one ColumnProfileView object per column in your dataset. And we can inspect some of the metrics on each one of them, such as the counts for a given column"
   ]
  },
  {
   "cell_type": "code",
   "execution_count": 19,
   "id": "3e2b2a9a-bd0f-4a43-9a79-5d297941b158",
   "metadata": {},
   "outputs": [
    {
     "data": {
      "application/vnd.jupyter.widget-view+json": {
       "model_id": "",
       "version_major": 2,
       "version_minor": 0
      },
      "text/plain": [
       "FloatProgress(value=0.0, bar_style='info', description='Progress:', layout=Layout(height='25px', width='50%'),…"
      ]
     },
     "metadata": {},
     "output_type": "display_data"
    },
    {
     "name": "stdout",
     "output_type": "stream",
     "text": [
      "(1599, 1599)"
     ]
    }
   ],
   "source": [
    "column_views_dict[\"density\"].get_metric(\"counts\").n.value, spark_dataframe.count()"
   ]
  },
  {
   "cell_type": "markdown",
   "id": "df9526ea-2ed8-45ae-b4d9-90cbea9c5324",
   "metadata": {
    "tags": []
   },
   "source": [
    "Or their mean value:"
   ]
  },
  {
   "cell_type": "code",
   "execution_count": 20,
   "id": "25399cbe-4c76-4c4a-9a8b-2b712d1d0887",
   "metadata": {},
   "outputs": [
    {
     "data": {
      "application/vnd.jupyter.widget-view+json": {
       "model_id": "",
       "version_major": 2,
       "version_minor": 0
      },
      "text/plain": [
       "FloatProgress(value=0.0, bar_style='info', description='Progress:', layout=Layout(height='25px', width='50%'),…"
      ]
     },
     "metadata": {},
     "output_type": "display_data"
    },
    {
     "name": "stdout",
     "output_type": "stream",
     "text": [
      "0.0"
     ]
    }
   ],
   "source": [
    "column_views_dict[\"density\"].get_metric(\"distribution\").mean.value"
   ]
  },
  {
   "cell_type": "markdown",
   "id": "622c35e9-6143-434a-bf53-db5cbba123af",
   "metadata": {
    "tags": []
   },
   "source": [
    "And now let's check how accurate whylogs did store that mean calculation."
   ]
  },
  {
   "cell_type": "code",
   "execution_count": 21,
   "id": "d063b9fe-db4d-4107-af2c-c1c2b8503ddc",
   "metadata": {},
   "outputs": [
    {
     "data": {
      "application/vnd.jupyter.widget-view+json": {
       "model_id": "",
       "version_major": 2,
       "version_minor": 0
      },
      "text/plain": [
       "FloatProgress(value=0.0, bar_style='info', description='Progress:', layout=Layout(height='25px', width='50%'),…"
      ]
     },
     "metadata": {},
     "output_type": "display_data"
    },
    {
     "name": "stdout",
     "output_type": "stream",
     "text": [
      "+------------------+\n",
      "|      avg(density)|\n",
      "+------------------+\n",
      "|0.9967466791744831|\n",
      "+------------------+"
     ]
    }
   ],
   "source": [
    "from pyspark.sql.functions import mean\n",
    "spark_dataframe.select(mean(\"density\")).show()"
   ]
  },
  {
   "cell_type": "markdown",
   "id": "f49f248a-9e9e-43be-843d-05fa364f1660",
   "metadata": {
    "tags": []
   },
   "source": [
    "It is not the literal exact value, but it gets really close, right? That is because we are not extracting the exact information, but we are also not sampling the data. whylogs will look at every data point and statistically decide wether or not that data point is relevant to the final calculation."
   ]
  },
  {
   "cell_type": "code",
   "execution_count": 22,
   "id": "bb8024e3-8142-479c-a49e-3ebc564cbcb2",
   "metadata": {},
   "outputs": [
    {
     "data": {
      "application/vnd.jupyter.widget-view+json": {
       "model_id": "",
       "version_major": 2,
       "version_minor": 0
      },
      "text/plain": [
       "FloatProgress(value=0.0, bar_style='info', description='Progress:', layout=Layout(height='25px', width='50%'),…"
      ]
     },
     "metadata": {},
     "output_type": "display_data"
    }
   ],
   "source": [
    "from whylogs.api.pyspark.experimental import collect_dataset_profile_view\n",
    "\n",
    "dataset_profile_view = collect_dataset_profile_view(input_df=spark_dataframe)"
   ]
  },
  {
   "cell_type": "code",
   "execution_count": 23,
   "id": "2c41f63f-4c12-491a-83ae-d308706bb6a7",
   "metadata": {},
   "outputs": [
    {
     "data": {
      "application/vnd.jupyter.widget-view+json": {
       "model_id": "",
       "version_major": 2,
       "version_minor": 0
      },
      "text/plain": [
       "FloatProgress(value=0.0, bar_style='info', description='Progress:', layout=Layout(height='25px', width='50%'),…"
      ]
     },
     "metadata": {},
     "output_type": "display_data"
    },
    {
     "name": "stdout",
     "output_type": "stream",
     "text": [
      "               cardinality/est  cardinality/lower_1  ...  types/string  types/tensor\n",
      "column                                               ...                            \n",
      "alcohol              65.000010            65.000000  ...          1599             0\n",
      "chlorides           153.000058           153.000000  ...          1599             0\n",
      "citric acid          80.000016            80.000000  ...          1599             0\n",
      "density             438.484250           432.884348  ...          1599             0\n",
      "fixed acidity        96.000023            96.000000  ...          1599             0\n",
      "\n",
      "[5 rows x 29 columns]"
     ]
    }
   ],
   "source": [
    "import pandas as pd \n",
    "\n",
    "dataset_profile_view.to_pandas().head()"
   ]
  }
 ],
 "metadata": {
  "kernelspec": {
   "display_name": "PySpark",
   "language": "python",
   "name": "pysparkkernel"
  },
  "language_info": {
   "codemirror_mode": {
    "name": "python",
    "version": 3
   },
   "file_extension": ".py",
   "mimetype": "text/x-python",
   "name": "pyspark",
   "pygments_lexer": "python3"
  }
 },
 "nbformat": 4,
 "nbformat_minor": 5
}
