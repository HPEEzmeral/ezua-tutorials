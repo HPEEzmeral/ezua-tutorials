{
 "cells": [
  {
   "cell_type": "markdown",
   "id": "9294e8e0",
   "metadata": {},
   "source": [
    "### Starting Spark Session"
   ]
  },
  {
   "cell_type": "code",
   "execution_count": null,
   "id": "879f8c6e-ed48-4801-946e-eb8e9c247747",
   "metadata": {
    "tags": []
   },
   "outputs": [
    {
     "data": {
      "application/vnd.jupyter.widget-view+json": {
       "model_id": "743aa601d8f44932822901142b7c6bdd",
       "version_major": 2,
       "version_minor": 0
      },
      "text/plain": [
       "Tab(children=(ManageSessionWidget(children=(HTML(value='<br/>'), HTML(value='No sessions yet.'))), CreateSessi…"
      ]
     },
     "metadata": {},
     "output_type": "display_data"
    },
    {
     "data": {
      "application/vnd.jupyter.widget-view+json": {
       "model_id": "dc956e4bbb084e24a1a6d6a9a50266f4",
       "version_major": 2,
       "version_minor": 0
      },
      "text/html": [],
      "text/plain": [
       "MagicsControllerWidget(children=(Tab(children=(ManageSessionWidget(children=(HTML(value='<br/>'), HTML(value='…"
      ]
     },
     "execution_count": 1,
     "metadata": {},
     "output_type": "execute_result"
    }
   ],
   "source": [
    "%reload_ext sparkmagic.magics\n",
    "%manage_spark"
   ]
  },
  {
   "cell_type": "markdown",
   "id": "b735fff2",
   "metadata": {},
   "source": [
    "### Importing the Libraries"
   ]
  },
  {
   "cell_type": "code",
   "execution_count": null,
   "id": "03479368",
   "metadata": {},
   "outputs": [],
   "source": [
    "from pyspark.sql import SparkSession\n",
    "from pyspark import SparkContext\n",
    "from pyspark.streaming import StreamingContext\n",
    "from pyspark.sql.types import StructType, StructField, StringType, DoubleType, DateType\n",
    "from pyspark.sql.functions import reverse, split, input_file_name,expr,date_format, current_date, col, year"
   ]
  },
  {
   "cell_type": "code",
   "execution_count": 1,
   "id": "ac57ece8",
   "metadata": {},
   "outputs": [],
   "source": [
    "server_name =\"jdbc:mysql://hostname:port\"\n",
    "database_name = \"database_name\"\n",
    "jdbcurl = server_name + \"/\" + database_name\n",
    "table_name = \"table_name\"\n",
    "db_properties = {\"user\":\"username\", \"password\":\"password\"}\n",
    "source_path = \"file:///mounts/shared-volume/user/fsi/data\"   \n",
    "sink = \"file:///mounts/shared-volume/user/fsi/data/sink\"\n",
    "checkpoint = \"file:///mounts/shared-volume/user/fsi/data/checkpoint\""
   ]
  },
  {
   "cell_type": "markdown",
   "id": "0bc0b2c9",
   "metadata": {},
   "source": [
    "### Schema definition of the incoming files "
   ]
  },
  {
   "cell_type": "code",
   "execution_count": 2,
   "id": "63e3772e",
   "metadata": {},
   "outputs": [],
   "source": [
    "def getSchema():\n",
    "   \n",
    "    schema = StructType([\n",
    "        StructField(\"Name\", StringType(), True),\n",
    "        StructField(\"Symbol\", StringType(), True),\n",
    "        StructField(\"Date\", DateType(), True),\n",
    "        StructField(\"Open\", DoubleType(), True),\n",
    "        StructField(\"Close\", DoubleType(), True),\n",
    "        StructField(\"Series\", StringType(), True),\n",
    "        StructField(\"Volume\", DoubleType(), True),\n",
    "        StructField(\"Turnover\", DoubleType(), True)\n",
    "    ])\n",
    "    return schema"
   ]
  },
  {
   "cell_type": "markdown",
   "id": "595e3032",
   "metadata": {},
   "source": [
    "### Reading the incoming files in batches "
   ]
  },
  {
   "cell_type": "code",
   "execution_count": 3,
   "id": "a26b6259",
   "metadata": {},
   "outputs": [],
   "source": [
    "def streamStockData():\n",
    "    \n",
    "    df = spark.readStream \\\n",
    "        .option(\"maxFilesPerTrigger\", 4) \\\n",
    "        .option(\"header\", True) \\\n",
    "        .schema(getSchema()) \\\n",
    "        .csv(source_path) \\\n",
    "        .withColumn(\"Year\", year(col(\"Date\")))\n",
    "    \n",
    "    final_df = df.select(\"Name\",\"Symbol\",\"Date\", \"Open\", \"Close\",\"Volume\",\"Turnover\",\"Year\")\n",
    "    return final_df"
   ]
  },
  {
   "cell_type": "markdown",
   "id": "64aebbbf",
   "metadata": {},
   "source": [
    "### Write data to the directory "
   ]
  },
  {
   "cell_type": "code",
   "execution_count": 4,
   "id": "4ac9aa1d",
   "metadata": {},
   "outputs": [],
   "source": [
    "def writeDataStream(final_df):\n",
    "    \n",
    "    final_df.writeStream \\\n",
    "        .outputMode(\"append\") \\\n",
    "        .trigger(processingTime = \"1 minute\") \\\n",
    "        .format(\"csv\")\\\n",
    "        .option(\"path\", sink)\\\n",
    "        .option(\"header\", True) \\\n",
    "        .option(\"checkpointLocation\", checkpoint) \\\n",
    "        .start() \\\n",
    "        .awaitTermination(timeout = 300)"
   ]
  },
  {
   "cell_type": "markdown",
   "id": "4193684e",
   "metadata": {},
   "source": [
    "### Write the data to the database in batches "
   ]
  },
  {
   "cell_type": "code",
   "execution_count": 5,
   "id": "851cd722",
   "metadata": {},
   "outputs": [],
   "source": [
    "def write_to_mysql(df, epoch_id):\n",
    "    dfwriter = df.write.mode(\"append\") \n",
    "    #dfwriter.jdbc(url=jdbcurl, table=table_name, properties=db_properties).save() # if this is not working use below\n",
    "    df.write.jdbc(url=jdbcurl, table=table_name, properties=db_properties, mode=\"append\")\n",
    "    pass\n",
    "\n",
    "def writeToDatabase(final_df):\n",
    "   \n",
    "    query = final_df.writeStream \\\n",
    "        .outputMode(\"append\") \\\n",
    "        .option(\"checkpointLocation\", checkpoint) \\\n",
    "        .foreachBatch(write_to_mysql) \\\n",
    "        .start() \\\n",
    "        .awaitTermination(1000)"
   ]
  },
  {
   "cell_type": "code",
   "execution_count": null,
   "id": "c9e7b691",
   "metadata": {},
   "outputs": [],
   "source": [
    "final_df = streamStockData()\n",
    "#writeDataStream(final_df)\n",
    "writeToDatabase(final_df)"
   ]
  }
 ],
 "metadata": {
  "kernelspec": {
   "display_name": "Python 3 (ipykernel)",
   "language": "python",
   "name": "python3"
  },
  "language_info": {
   "codemirror_mode": {
    "name": "ipython",
    "version": 3
   },
   "file_extension": ".py",
   "mimetype": "text/x-python",
   "name": "python",
   "nbconvert_exporter": "python",
   "pygments_lexer": "ipython3",
   "version": "3.10.9"
  }
 },
 "nbformat": 4,
 "nbformat_minor": 5
}
