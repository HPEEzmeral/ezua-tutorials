{
 "cells": [
  {
   "cell_type": "markdown",
   "metadata": {},
   "source": [
    "# Data Source Connectivity and Exploration\n",
    "\n",
    "This tutorial outlines the fundamental steps for using the Data Engineering space in HPE Ezmeral\n",
    "Unified Analytics (EzUA) Software. Please note that the data and information presented here are\n",
    "solely for illustrative purposes. To effectively leverage the capabilities of Unified Analytics, you\n",
    "will need to connect it to your own data sources and utilize the datasets available within those\n",
    "sources.\n",
    "\n",
    "## Tutorial Objectives:\n",
    "\n",
    "This tutorial is designed to introduce you to the essentials of Data Engineering and acquaint you\n",
    "with the interface of the system. It includes step-by-step guidance on how to:\n",
    "\n",
    "- Establish connections to various data sources.\n",
    "- Choose predefined data sets within these data sources.\n",
    "- Merge data from different sets or sources.\n",
    "- Develop a view for data analysis.\n",
    "- Execute queries on the view you have created.\n",
    "\n",
    "## Table of Contents\n",
    "\n",
    "- [Introduction to Data Engineering on HPE Ezmeral Unified Analytics](#introduction-to-data-engineering-on-hpe-ezmeral-unified-analytics)\n",
    "- [Connect Data Sources](#connect-data-sources)\n",
    "- [Select Data Sets in the Data Catalog](#select-data-sets-in-the-data-catalog)\n",
    "- [Run a JOIN Query on Data Sets and Create a View](#run-a-join-query-on-data-sets-and-create-a-view)\n",
    "- [Next Steps](#next-steps)"
   ]
  },
  {
   "cell_type": "markdown",
   "metadata": {},
   "source": [
    "# Introduction to Data Engineering on HPE Ezmeral Unified Analytics\n",
    "\n",
    "Before starting, take a moment to familiarize yourself with the sidebar navigation menu of your HPE\n",
    "EzUA Dashboard. Within the \"Data Engineering\" section, you'll find tools to connect to data sources\n",
    "and manage data in various ways. The \"Data Engineering\" tab includes the following features:\n",
    "\n",
    "- **Data Sources:** View and access your connected data sources, or establish new connections.\n",
    "- **Data Catalog:** Select and query data sets (including tables and views) from one or more data\n",
    "                    sources. This section also offers the option to cache data sets, which stores\n",
    "                    the data in a distributed caching layer within the data fabric, ensuring quicker\n",
    "                    access.\n",
    "- **Query Editor:** Run queries against selected data sets; create views and new schemas.\n",
    "- **Cached Assets:** List the cached data sets (tables and views).\n",
    "- **Airflow Pipelines:** Connect to the Airflow interface where you can connect to data sets created\n",
    "                         in HPE EZUA and use them in your data pipelines."
   ]
  },
  {
   "cell_type": "markdown",
   "metadata": {},
   "source": [
    "# Connect Data Sources\n",
    "\n",
    "Let's begin by connecting to external data sources that house the data sets (tables and views) you\n",
    "wish to work with. For this tutorial, you are using MySQL, SQL Server, Snowflake, and Hive as your\n",
    "connected data sources. To start, navigate to the left column and select 'Data Engineering' followed\n",
    "by 'Data Sources.' Upon doing this, the Data Sources screen will be displayed."
   ]
  },
  {
   "cell_type": "markdown",
   "metadata": {},
   "source": [
    "![title](images/01a.png)"
   ]
  },
  {
   "cell_type": "markdown",
   "metadata": {},
   "source": [
    "Click the `Add New Data Source` button."
   ]
  },
  {
   "cell_type": "markdown",
   "metadata": {},
   "source": [
    "![title](images/01b.png)"
   ]
  },
  {
   "cell_type": "markdown",
   "metadata": {},
   "source": [
    "## Connecting to MySQL\n",
    "\n",
    "In the Add New Data Source screen, click `Create Connection` in the MySQL tile. In the drawer that\n",
    "opens on the right, enter required information in the respective fields:\n",
    "\n",
    "- **Name:** mysql\n",
    "- **Connection URL:** jdbc:mysql://<ip-address>:<port>\n",
    "- **Connection User:** demouser\n",
    "- **Connection Password:** moi123\n",
    "- **Enable Local Snapshot Table:** Select the check box\n",
    "\n",
    "When `Enable Local Snapshot Table` is selected, the system caches remote table data to accelerate\n",
    "queries on the tables. The cache is active for the duration of the configured TTL or until the\n",
    "remote tables in the data source are altered.\n",
    "\n",
    "Finally, click `Connect`. Upon successful connection, the system returns the following message:\n",
    "\n",
    "```\n",
    "Successfully added data source \"mysql\".\n",
    "```\n",
    "\n",
    "> Please be aware that the credentials used in this tutorial are solely for illustrative purposes.\n",
    "> You should use your own credentials to establish connections with your personal data sources."
   ]
  },
  {
   "cell_type": "markdown",
   "metadata": {},
   "source": [
    "## Connecting to Microsoft SQL Server\n",
    "\n",
    "In the `Add New Data Source` screen, click Create Connection in the MySQL tile. In the drawer that\n",
    "opens on the right, enter required information in the respective fields:\n",
    "\n",
    "- **Name:** mssql\n",
    "- **Connection URL:** jdbc:sqlserver:<ip-address>:<port>;database=retailstore\n",
    "- **Connection User:** myaccount\n",
    "- **Connection Password:** moi123\n",
    "- **Enable Local Snapshot Table:** Select the check box\n",
    "- **Enable Transparent Cache:** Select the check box\n",
    "\n",
    "When `Enable Local Snapshot Table` is selected, the system caches remote table data to accelerate\n",
    "queries on the tables. The cache is active for the duration of the configured TTL or until the\n",
    "remote tables in the data source are altered.\n",
    "\n",
    "~~When the `Enable Transparent Cache` option is selected, the system automatically caches data in\n",
    "real-time as queries access remote tables. This means that as the query engine processes data from\n",
    "remote data sources, it simultaneously caches this data. Consequently, any future queries targeting\n",
    "the same data will benefit from faster response times, as the results are swiftly retrieved from\n",
    "this cache. It's important to note that this cache exists only for the duration of the current\n",
    "session.~~\n",
    "\n",
    "Finally, click `Connect`. Upon successful connection, the system returns the following message:\n",
    "\n",
    "```\n",
    "Successfully added data source \"mssql\".\n",
    "```"
   ]
  },
  {
   "cell_type": "markdown",
   "metadata": {},
   "source": [
    "## Connecting to Snowflake\n",
    "\n",
    "In the `Add New Data Source` screen, click Create Connection in the Snowflake tile. In the drawer\n",
    "that opens on the right, enter required information in the respective fields:\n",
    "\n",
    "- **Name:** snowflake\n",
    "- **Connection URL:** jdbc:snowflake://mydomain.com/\n",
    "- **Connection User:** demouser\n",
    "- **Connection Password:** moi123\n",
    "- **Enable Local Snapshot Table:** Select the check box\n",
    "\n",
    "When `Enable Local Snapshot Table` is selected, the system caches remote table data to accelerate\n",
    "queries on the tables. The cache is active for the duration of the configured TTL or until the\n",
    "remote tables in the data source are altered.\n",
    "\n",
    "Finally, click `Connect`. Upon successful connection, the system returns the following message:\n",
    "\n",
    "```\n",
    "Successfully added data source \"snowflake\".\n",
    "```"
   ]
  },
  {
   "cell_type": "markdown",
   "metadata": {},
   "source": [
    "## **Connecting to Hive**\n",
    "\n",
    "In the `Add New Data Source` screen, click Create Connection in the Hive tile. In the drawer that\n",
    "opens on the right, enter required information in the respective fields:\n",
    "\n",
    "- **Name:** hiveview\n",
    "- **Hive Metastore:** file\n",
    "- **Hive Metastore Catalog Dir:** file:///data/shared/tmpmetastore\n",
    "\n",
    "In `Optional Fields`, search for the following fields and add the specified values:\n",
    "\n",
    "- **Hive Max Partitions Per Writers:** 10000\n",
    "- **Hive Temporary Staging Directory Enabled:** Unselect\n",
    "- **Hive Allow Drop Table:** Select\n",
    "- **Enable Local Snapshot Table:** Select the check box\n",
    "\n",
    "When `Enable Local Snapshot Table` is selected, the system caches remote table data to accelerate\n",
    "queries on the tables. The cache is active for the duration of the configured TTL or until the\n",
    "remote tables in the data source are altered.\n",
    "\n",
    "Finally, click `Connect`. Upon successful connection, the system returns the following message:\n",
    "\n",
    "```\n",
    "Successfully added data source \"hiveview\".\n",
    "```"
   ]
  },
  {
   "cell_type": "markdown",
   "metadata": {},
   "source": [
    "# Select Data Sets in the Data Catalog\n",
    "\n",
    "In the `Data Catalog`, select the data sets (tables and views) in each of the data sources that you\n",
    "want to work with. This tutorial uses the customer tables in the connected `mysql` and `snowflake`\n",
    "data sources. In the `mysql` data source, the schema for the `customer` table is `retailstore`. In\n",
    "the `snowflake` data source, the schema for the `customer` table is `public`.\n",
    "\n",
    "To select the data sets that you want to work with:\n",
    "\n",
    "1. In the left navigation bar, select `Data Engineering > Data Catalog`.\n",
    "1. On the `Data Catalog` page, click the dropdown next to the `mysql` and `snowflake` data\n",
    "   sources to expose the available schemas in those data sources.\n",
    "1. For the `snowflake` data source select the `public` schema and for the `mysql` data source,\n",
    "   select the `retailstore` schemas.\n",
    "1. In the `All Datasets` search field, enter a search term to limit the number of data sets. This\n",
    "   tutorial searches on data sets with the name `customer`. All the data sets that have `customer`\n",
    "   in the name with `public` or `retailstore` schema display.\n",
    "1. Click a `customer` table and preview its data in the `Columns` and `Data Preview` tabs. Do not\n",
    "   click the browser's back button; doing so takes you to the `Data Sources` screen and you will\n",
    "   have to repeat the previous steps.\n",
    "1. Click `Close` to return to the data sets.\n",
    "1. Click `Select` by each of the tables named `customer`. `Selected Datasets` should show `2` as the\n",
    "   number of data sets selected.\n",
    "1. Click `Selected Datasets`. The `Selected Datasets` drawer opens, giving you another opportunity\n",
    "   to preview the datasets or discard them. From here, you can either query or cache the selected\n",
    "   data sets. For the purpose of this tutorial, we will query the data sets.\n",
    "1. Click `Query Editor`."
   ]
  },
  {
   "cell_type": "markdown",
   "metadata": {},
   "source": [
    "![title](images/01c.png)"
   ]
  },
  {
   "cell_type": "markdown",
   "metadata": {},
   "source": [
    "# Run a JOIN Query on Data Sets and Create a View\n",
    "\n",
    "The datasets you selected display under `Selected Datasets` in the `Query Editor`. Run a `JOIN`\n",
    "query to join data from the two `customer` tables and then create a view from the query. The system\n",
    "saves views as cached assets that you can reuse.\n",
    "\n",
    "To view table columns and run a `JOIN` query:\n",
    "1. Expand the `customer` tables in the `Selected Datasets` section to view the columns in each of\n",
    "   the tables.\n",
    "1. In the `SQL Query` workspace, click `+` to add a worksheet.\n",
    "1. Copy and paste the following query into the `SQL Query` field. This query creates the a new\n",
    "   schema in the hiveview data source named `demoschema`:\n",
    "\n",
    "   ```sql\n",
    "   create schema if not exists hiveview.demoschema;\n",
    "   ```\n",
    "1. Click `Run` to run the query. As the query runs, a green light pulsates next to the `Query ID` in\n",
    "   the `Query Results` section to indicate that the query is in progress. When the query is\n",
    "   completed, the `Status` column displays `Succeeded`.\n",
    "1. In the `SQL Query` workspace, click `+` to add a worksheet.\n",
    "1. Copy and paste the following query into the `SQL Query` field. This query creates a view\n",
    "   (`hiveview.demoschema`) from a query that joins columns from the two `customer` tables (in the\n",
    "   `mysql` and `snowflake` data sources) on the `customer ID`:\n",
    "\n",
    "   ```sql\n",
    "   create view hiveview.demoschema.customer_info_view as SELECT t1.c_customer_id, t1.c_first_name, t1.c_last_name, t2.c_email_address FROM mysql.retailstore.customer t1 INNER JOIN snowflake.public.customer t2 ON t1.c_customer_id=t2.c_customer_id\n",
    "   ```\n",
    "1. Click `Run` to run the query.\n",
    "1. In the `SQL Query` workspace, click `+` to add a worksheet.\n",
    "1. Copy and paste the following query into the `SQL Query` field. This runs against the view you\n",
    "   created (`hiveview.demoschema`) and returns all data in the view:\n",
    "\n",
    "   ```sql\n",
    "   SELECT * FROM hiveview.demoschema.customer_info_view;*\n",
    "   ```\n",
    "1. Click `Run` to run the query.\n",
    "1. In the `Query Results` section, expand the `Actions` option for the query and select\n",
    "   `Query Details` to view the query session and resource utilization summary.\n",
    "1. Click `Close` to exit out of Query Details."
   ]
  },
  {
   "cell_type": "markdown",
   "metadata": {},
   "source": [
    "![title](images/01d.png)"
   ]
  },
  {
   "cell_type": "markdown",
   "metadata": {},
   "source": [
    "# Next Steps\n",
    "\n",
    "You have completed the first part of this tutorial. This tutorial demonstrated how easy it is to\n",
    "connect HPE EzUA to various data sources for federated access to data through a single interface,\n",
    "using standard SQL queries.\n",
    "\n",
    "Next, you will learn how to create a Superset dashboard using the view (`customer_info_view`) and\n",
    "schema (`customer_schema`) you created in this tutorial."
   ]
  }
 ],
 "metadata": {
  "language_info": {
   "name": "python"
  },
  "orig_nbformat": 4
 },
 "nbformat": 4,
 "nbformat_minor": 2
}
