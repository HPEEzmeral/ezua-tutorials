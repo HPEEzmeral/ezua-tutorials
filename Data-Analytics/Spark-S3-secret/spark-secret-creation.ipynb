{
 "cells": [
  {
   "cell_type": "markdown",
   "source": [
    "## Spark S3 proxy secret\n",
    "### This notebook demonstrates an example of creation of s3 secret for spark application consumption."
   ],
   "metadata": {
    "collapsed": false
   }
  },
  {
   "cell_type": "code",
   "execution_count": null,
   "outputs": []
    }
   ],
   "source": [
    "import os\n",
    "import subprocess\n",
    "\n",
    "\n",
    "def deploy_s3_secret(namespace, spark_secret):\n",
    "    try:\n",
    "        # Run kubectl apply command using subprocess\n",
    "        subprocess.run(['kubectl', 'delete', 'secret', spark_secret, '-n', namespace], check=False)\n",
    "        subprocess.run(['kubectl', 'create', 'secret', 'generic', spark_secret, '-n', namespace , '--from-file=spark-defaults.conf'], check=True)\n",
    "        print(\"Secret creation successful!\")\n",
    "    except subprocess.CalledProcessError as e:\n",
    "        print(f\"Secret creation  failed. Error: {e}\")\n",
    "\n",
    "\n",
    "s3_access_data = \"spark.hadoop.fs.s3a.access.key EXAMPLE_ACCESS_KEY\"\n",
    "s3_secret_data = \"spark.hadoop.fs.s3a.secret.key EXAMPLE_SECRET_KEY\"\n",
    "\n",
    "s3_data = s3_access_data.replace('EXAMPLE_ACCESS_KEY', os.environ['AUTH_TOKEN'])\n",
    "s3_data += \"\\n\" + s3_secret_data.replace(\"EXAMPLE_SECRET_KEY\", \"s3\")\n",
    "\n",
    "#To connect directly to S3 object, comment the above 2 lines and\n",
    "#uncomment the following 2 lines.\n",
    "#Replace the <S3_OBJECT_STORE_ACCESS_KEY> with object store access key\n",
    "#Replace the <S3_OBJECT_STORE_SECRET_KEY> with object store secret key\n",
    "\n",
    "#s3_data = s3_access_data.replace('EXAMPLE_ACCESS_KEY', <S3_OBJECT_STORE_ACCESS_KEY>)\n",
    "#s3_data += \"\\n\" + s3_secret_data.replace(\"EXAMPLE_SECRET_KEY\",  <S3_OBJECT_STORE_SECRET_KEY>)\n",
    "\n",
    "namespace = os.environ['USER']\n",
    "spark_secret = \"spark-s3-secret\"\n",
    "\n",
    "#Save data to a file spark-defaults.conf\n",
    "with open('spark-defaults.conf', 'w') as file:\n",
    "    file.write(s3_data)\n",
    "\n",
    "\n",
    "# Call the function to deploy the Kubernetes secret\n",
    "deploy_s3_secret(namespace, spark_secret)"
   ],
   "metadata": {
    "collapsed": false,
    "pycharm": {
     "name": "#%%\n"
    }
   }
  }
 ],
 "metadata": {
  "colab": {
   "authorship_tag": "ABX9TyMUyEIXKPIvKiU5I2T//pwx",
   "collapsed_sections": [],
   "include_colab_link": true,
   "name": "MLflow-example-notebook.ipynb",
   "provenance": []
  },
  "kernelspec": {
   "display_name": "Python 3 (ipykernel)",
   "language": "python",
   "name": "python3"
  },
  "language_info": {
   "codemirror_mode": {
    "name": "ipython",
    "version": 3
   },
   "file_extension": ".py",
   "mimetype": "text/x-python",
   "name": "python",
   "nbconvert_exporter": "python",
   "pygments_lexer": "ipython3",
   "version": "3.8.10"
  }
 },
 "nbformat": 4,
 "nbformat_minor": 4
}

