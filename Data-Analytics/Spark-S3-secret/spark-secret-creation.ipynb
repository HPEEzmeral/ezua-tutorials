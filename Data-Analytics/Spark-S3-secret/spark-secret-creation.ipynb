{
 "cells": [
  {
   "cell_type": "code",
   "execution_count": 1,
   "id": "224421d0-a7d6-4879-860e-7f68523deefe",
   "metadata": {
    "tags": []
   },
   "outputs": [
    {
     "name": "stdout",
     "output_type": "stream",
     "text": [
      "secret/spark-s3-secret created\n",
      "Secret creation successful!\n"
     ]
    },
    {
     "name": "stderr",
     "output_type": "stream",
     "text": [
      "Error from server (NotFound): secrets \"spark-s3-secret\" not found\n"
     ]
    }
   ],
   "source": [
    "def deploy_s3_secret(namespace, spark_secret):\n",
    "    try:\n",
    "        # Run kubectl apply command using subprocess\n",
    "        subprocess.run(['kubectl', 'delete', 'secret', spark_secret, '-n', namespace], check=False)\n",
    "        subprocess.run(['kubectl', 'create', 'secret', 'generic', spark_secret, '-n', namespace , '--from-file=spark-defaults.conf'], check=True)\n",
    "        print(\"Secret creation successful!\")\n",
    "    except subprocess.CalledProcessError as e:\n",
    "        print(f\"Secret creation  failed. Error: {e}\")\n",
    "\n",
    "\n",
    "s3_access_data = \"spark.hadoop.fs.s3a.access.key EXAMPLE_ACCESS_KEY\"\n",
    "s3_secret_data = \"spark.hadoop.fs.s3a.secret.key EXAMPLE_SECRET_KEY\"\n",
    "\n",
    "s3_data = s3_access_data.replace('EXAMPLE_ACCESS_KEY', os.environ['AUTH_TOKEN'])\n",
    "s3_data += \"\\n\" + s3_secret_data.replace(\"EXAMPLE_SECRET_KEY\", \"s3\")    \n",
    "\n",
    "namespace = os.environ['USER']\n",
    "spark_secret = \"spark-s3-secret\"\n",
    "\n",
    "#Save data to a file spark-defaults.conf\n",
    "with open('spark-defaults.conf', 'w') as file:\n",
    "    file.write(s3_data)\n",
    "\n",
    "\n",
    "# Call the function to deploy the Kubernetes secret\n",
    "deploy_s3_secret(namespace, spark_secret)"
   ]
  },
  {
   "cell_type": "code",
   "execution_count": null,
   "id": "4e2dd572-d308-4bb3-852e-b073f538f684",
   "metadata": {},
   "outputs": [],
   "source": []
  }
 ],
 "metadata": {
  "kernelspec": {
   "display_name": "Python 3 (ipykernel)",
   "language": "python",
   "name": "python3"
  },
  "language_info": {
   "codemirror_mode": {
    "name": "ipython",
    "version": 3
   },
   "file_extension": ".py",
   "mimetype": "text/x-python",
   "name": "python",
   "nbconvert_exporter": "python",
   "pygments_lexer": "ipython3",
   "version": "3.11.6"
  }
 },
 "nbformat": 4,
 "nbformat_minor": 5
}
