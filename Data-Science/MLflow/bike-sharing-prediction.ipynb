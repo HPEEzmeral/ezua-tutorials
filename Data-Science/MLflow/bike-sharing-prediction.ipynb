{
 "cells": [
  {
   "cell_type": "markdown",
   "metadata": {
    "tags": []
   },
   "source": [
    "# Prediction\n",
    "\n",
    "Deployment of kserve will take few minutes to comes to ready state. In just a short span of time, it will transition into a ready state, providing the tools you need at your fingertips.\n",
    "\n",
    "Now, let us lay the groundwork for what comes next. The first crucial step you will need to undertake is securing an access token. This token serves as your personal key, allowing you to invoke the service."
   ]
  },
  {
   "cell_type": "code",
   "execution_count": null,
   "metadata": {
    "tags": []
   },
   "outputs": [],
   "source": [
    "import warnings\n",
    "import requests\n",
    "\n",
    "warnings.filterwarnings('ignore')"
   ]
  },
  {
   "cell_type": "code",
   "execution_count": null,
   "metadata": {
    "tags": []
   },
   "outputs": [],
   "source": [
    "# Add heading\n",
    "heading = widgets.HTML(\"<h2>User Credentials</h2>\")\n",
    "display(heading)\n",
    "\n",
    "ezaf_env_input = widgets.Text(description='EZAF Env:')\n",
    "namespace_input = widgets.Text(description='Namespace:')\n",
    "deployment_input = widgets.Text(value=\"bike-sharing\", description='Deployment:')\n",
    "username_input = widgets.Text(description='Username:')\n",
    "password_input = widgets.Password(description='Password:')\n",
    "submit_button = widgets.Button(description='Submit')\n",
    "success_message = widgets.Output()\n",
    "\n",
    "ezaf_env = None\n",
    "namespace = None\n",
    "username = None\n",
    "password = None\n",
    "\n",
    "def submit_button_clicked(b):\n",
    "    global ezaf_env, namespace, deployment, username, password\n",
    "    ezaf_env = ezaf_env_input.value\n",
    "    namespace = namespace_input.value\n",
    "    deployment = deployment_input.value\n",
    "    username = username_input.value\n",
    "    password = password_input.value\n",
    "    with success_message:\n",
    "        success_message.clear_output()\n",
    "        print(\"Credentials submitted successfully!\")\n",
    "    submit_button.disabled = True\n",
    "\n",
    "submit_button.on_click(submit_button_clicked)\n",
    "\n",
    "# Set margin on the submit button\n",
    "submit_button.layout.margin = '20px 0 20px 0'\n",
    "\n",
    "# Display inputs and button\n",
    "display(ezaf_env_input, namespace_input, deployment_input,\n",
    "        username_input, password_input, submit_button, success_message)"
   ]
  },
  {
   "cell_type": "code",
   "execution_count": null,
   "metadata": {
    "tags": []
   },
   "outputs": [],
   "source": [
    "# Provide your EZAF subdomain here:\n",
    "EZAF_ENV = ezaf_env\n",
    "token_url = f\"https://keycloak.{EZAF_ENV}.com/realms/UA/protocol/openid-connect/token\"\n",
    "\n",
    "data = {\n",
    "    \"username\" : username,\n",
    "    \"password\" : password,\n",
    "    \"grant_type\" : \"password\",\n",
    "    \"client_id\" : \"ua-grant\",\n",
    "}\n",
    "\n",
    "token_responce = requests.post(token_url, data=data, allow_redirects=True, verify=False)\n",
    "\n",
    "token = token_responce.json()[\"access_token\"]"
   ]
  },
  {
   "cell_type": "markdown",
   "metadata": {
    "tags": []
   },
   "source": [
    "Finally, you are ready to send a POST request to your InferenceService, providing the features in the body of the request. In the response, you'll get the prediction of the model."
   ]
  },
  {
   "cell_type": "code",
   "execution_count": null,
   "metadata": {
    "tags": []
   },
   "outputs": [],
   "source": [
    "NAMESPACE = namespace\n",
    "DEPLOYMENT_NAME = deployment\n",
    "MODEL_NAME = DEPLOYMENT_NAME\n",
    "SVC = f'{DEPLOYMENT_NAME}-predictor-default.{NAMESPACE}.{EZAF_ENV}.com'\n",
    "URL = f\"https://{SVC}/v2/models/{MODEL_NAME}/infer\"\n",
    "\n",
    "names = ['season', 'year', 'month', 'hour_of_day', 'is_holiday', 'weekday', 'is_workingday', \n",
    "         'weather_situation', 'temperature', 'feels_like_temperature', 'humidity', 'windspeed']\n",
    "\n",
    "input_data = [\n",
    "    [1, 2, 1, 0, 0, 6, 0, 1, 0.24, 0.2879, 0.81, 0.0000],\n",
    "    [1, 5, 1, 0, 0, 6, 1, 1, 0.24, 0.2879, 0.81, 0.0000]\n",
    "]\n",
    "\n",
    "inputs = {\n",
    "  \"inputs\": [\n",
    "    {\n",
    "      \"name\": \"ndarray\",\n",
    "      \"shape\": [2, 12],\n",
    "      \"datatype\": \"FP32\",\n",
    "      \"data\": input_data\n",
    "    }\n",
    "  ]\n",
    "}\n",
    "\n",
    "headers = {\"Authorization\": f\"Bearer {token}\"}\n",
    "\n",
    "response = requests.post(URL, json=inputs, headers=headers, verify=False)\n",
    "\n",
    "print(response.reason)\n",
    "\n",
    "output = response.json()['outputs'][0]['data']\n",
    "\n",
    "print(\"\\nRendted Bikes Per Hour:\\n\")\n",
    "for item, out in zip(input_data, output):\n",
    "    input_dict = dict(zip(names,item))\n",
    "    print(f\"Input Data: {input_dict} \\nBike Per Hour: {out}\\n\")"
   ]
  }
 ],
 "metadata": {
  "kernelspec": {
   "display_name": "Python 3 (ipykernel)",
   "language": "python",
   "name": "python3"
  },
  "language_info": {
   "codemirror_mode": {
    "name": "ipython",
    "version": 3
   },
   "file_extension": ".py",
   "mimetype": "text/x-python",
   "name": "python",
   "nbconvert_exporter": "python",
   "pygments_lexer": "ipython3",
   "version": "3.8.10"
  }
 },
 "nbformat": 4,
 "nbformat_minor": 4
}
