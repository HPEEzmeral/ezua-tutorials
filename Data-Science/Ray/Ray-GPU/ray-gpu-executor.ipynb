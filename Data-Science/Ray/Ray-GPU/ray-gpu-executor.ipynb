{
 "cells": [
  {
   "cell_type": "code",
   "execution_count": 1,
   "id": "d7492442-58af-446d-b082-cb24a04cf188",
   "metadata": {
    "tags": []
   },
   "outputs": [],
   "source": [
    "# Imports\n",
    "import ray\n",
    "from ray.job_submission import JobSubmissionClient, JobStatus\n",
    "import time"
   ]
  },
  {
   "cell_type": "code",
   "execution_count": 2,
   "id": "503b3235-08f3-47bb-8c98-86b54a19c0d6",
   "metadata": {
    "tags": []
   },
   "outputs": [],
   "source": [
    "# Ray cluster information for connection\n",
    "ray_head_ip = \"kuberay-head-svc.kuberay.svc.cluster.local\"\n",
    "ray_head_port = 8265\n",
    "ray_address = f\"http://{ray_head_ip}:{ray_head_port}\"\n",
    "client = JobSubmissionClient(ray_address)"
   ]
  },
  {
   "cell_type": "code",
   "execution_count": 3,
   "id": "e377061e-1b48-4193-88bb-6d24732fb0cb",
   "metadata": {
    "tags": []
   },
   "outputs": [
    {
     "name": "stderr",
     "output_type": "stream",
     "text": [
      "2024-03-13 20:17:12,319\tINFO dashboard_sdk.py:338 -- Uploading package gcs://_ray_pkg_cadba0a68a4c4235.zip.\n",
      "2024-03-13 20:17:12,321\tINFO packaging.py:530 -- Creating a file package for local directory './'.\n"
     ]
    },
    {
     "name": "stdout",
     "output_type": "stream",
     "text": [
      "Ray job submitted with job_id: raysubmit_qLSWwYQC4S3TrxsV\n",
      "2024-03-13 13:21:58.893801: I tensorflow/core/platform/cpu_feature_guard.cc:193] This TensorFlow binary is optimized with oneAPI Deep Neural Network Library (oneDNN) to use the following CPU instructions in performance-critical operations:  AVX2 AVX512F AVX512_VNNI FMA\n",
      "To enable them in other operations, rebuild TensorFlow with the appropriate compiler flags.\n",
      "2024-03-13 13:21:59.007216: I tensorflow/core/util/port.cc:104] oneDNN custom operations are on. You may see slightly different numerical results due to floating-point round-off errors from different computation orders. To turn them off, set the environment variable `TF_ENABLE_ONEDNN_OPTS=0`.\n",
      "2024-03-13 13:21:59.741023: W tensorflow/compiler/xla/stream_executor/platform/default/dso_loader.cc:64] Could not load dynamic library 'libnvinfer.so.7'; dlerror: libnvinfer.so.7: cannot open shared object file: No such file or directory; LD_LIBRARY_PATH: /usr/local/nvidia/lib:/usr/local/nvidia/lib64\n",
      "2024-03-13 13:21:59.741159: W tensorflow/compiler/xla/stream_executor/platform/default/dso_loader.cc:64] Could not load dynamic library 'libnvinfer_plugin.so.7'; dlerror: libnvinfer_plugin.so.7: cannot open shared object file: No such file or directory; LD_LIBRARY_PATH: /usr/local/nvidia/lib:/usr/local/nvidia/lib64\n",
      "2024-03-13 13:21:59.741309: W tensorflow/compiler/tf2tensorrt/utils/py_utils.cc:38] TF-TRT Warning: Cannot dlopen some TensorRT libraries. If you would like to use Nvidia GPU with TensorRT, please make sure the missing libraries mentioned above are installed properly.\n",
      "Num GPUs Available:  1\n",
      "TensorFlow will run on GPU.\n",
      "2024-03-13 13:22:01.258384: I tensorflow/core/common_runtime/gpu/gpu_device.cc:1613] Created device /job:localhost/replica:0/task:0/device:GPU:0 with 38375 MB memory:  -> device: 0, name: NVIDIA A100-PCIE-40GB, pci bus id: 0000:86:00.0, compute capability: 8.0\n",
      "input: (_Arg): /job:localhost/replica:0/task:0/device:GPU:0\n",
      "2024-03-13 13:22:01.290481: I tensorflow/core/common_runtime/placer.cc:114] input: (_Arg): /job:localhost/replica:0/task:0/device:GPU:0\n",
      "_EagerConst: (_EagerConst): /job:localhost/replica:0/task:0/device:GPU:0\n",
      "2024-03-13 13:22:01.290685: I tensorflow/core/common_runtime/placer.cc:114] _EagerConst: (_EagerConst): /job:localhost/replica:0/task:0/device:GPU:0\n",
      "output_RetVal: (_Retval): /job:localhost/replica:0/task:0/device:GPU:0\n",
      "2024-03-13 13:22:01.290904: I tensorflow/core/common_runtime/placer.cc:114] output_RetVal: (_Retval): /job:localhost/replica:0/task:0/device:GPU:0\n",
      "x: (_Arg): /job:localhost/replica:0/task:0/device:GPU:0\n",
      "2024-03-13 13:22:01.776442: I tensorflow/core/common_runtime/placer.cc:114] x: (_Arg): /job:localhost/replica:0/task:0/device:GPU:0\n",
      "Square: (Square): /job:localhost/replica:0/task:0/device:GPU:0\n",
      "2024-03-13 13:22:01.776627: I tensorflow/core/common_runtime/placer.cc:114] Square: (Square): /job:localhost/replica:0/task:0/device:GPU:0\n",
      "y_RetVal: (_Retval): /job:localhost/replica:0/task:0/device:GPU:0\n",
      "2024-03-13 13:22:01.776819: I tensorflow/core/common_runtime/placer.cc:114] y_RetVal: (_Retval): /job:localhost/replica:0/task:0/device:GPU:0\n",
      "Original data sample: [ 1  2  3  4  5  6  7  8  9 10]\n",
      "Squared data sample: [  1.   4.   9.  16.  25.  36.  49.  64.  81. 100.]\n",
      "\n"
     ]
    }
   ],
   "source": [
    "# Submit Ray job using JobSubmissionClient\n",
    "job_id = client.submit_job(\n",
    "    entrypoint=\"python ray-gpu-example.py\",\n",
    "    runtime_env={\n",
    "        \"working_dir\": \"./\"\n",
    "    },\n",
    "    entrypoint_num_gpus = 1,\n",
    "    entrypoint_num_cpus = 1,\n",
    ")\n",
    "\n",
    "print(f\"Ray job submitted with job_id: {job_id}\")\n",
    "\n",
    "# Waiting for Ray to finish the job and print the result\n",
    "while True:\n",
    "    status = client.get_job_status(job_id)\n",
    "    if status in [ray.job_submission.JobStatus.RUNNING, ray.job_submission.JobStatus.PENDING]:\n",
    "        time.sleep(5)\n",
    "    else:\n",
    "        break\n",
    "print(client.get_job_logs(job_id)) "
   ]
  },
  {
   "cell_type": "code",
   "execution_count": null,
   "id": "09813fd1-0f4a-4890-abb7-5523fd262ec5",
   "metadata": {},
   "outputs": [],
   "source": [
    "# Disconnect from the Ray cluster\n",
    "ray.shutdown()"
   ]
  }
 ],
 "metadata": {
  "kernelspec": {
   "display_name": "Ray",
   "language": "python",
   "name": "ray"
  },
  "language_info": {
   "codemirror_mode": {
    "name": "ipython",
    "version": 3
   },
   "file_extension": ".py",
   "mimetype": "text/x-python",
   "name": "python",
   "nbconvert_exporter": "python",
   "pygments_lexer": "ipython3",
   "version": "3.8.13"
  }
 },
 "nbformat": 4,
 "nbformat_minor": 5
}
