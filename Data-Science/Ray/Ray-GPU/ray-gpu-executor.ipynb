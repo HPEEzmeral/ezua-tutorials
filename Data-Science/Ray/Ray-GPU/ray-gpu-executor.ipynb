{
 "cells": [
  {
   "cell_type": "code",
   "execution_count": 4,
   "id": "5720543d-c305-48a0-ba68-3464915fa4f4",
   "metadata": {
    "tags": []
   },
   "outputs": [],
   "source": [
    "# Imports\n",
    "import ray\n",
    "from ray.job_submission import JobSubmissionClient, JobStatus\n",
    "import time"
   ]
  },
  {
   "cell_type": "code",
   "execution_count": 2,
   "id": "8e13f3f1-1b06-494f-8436-e8d9d04689c2",
   "metadata": {
    "tags": []
   },
   "outputs": [],
   "source": [
    "# Ray cluster information for connection\n",
    "ray_head_ip = \"kuberay-head-svc.kuberay.svc.cluster.local\"\n",
    "ray_head_port = 8265\n",
    "ray_address = f\"http://{ray_head_ip}:{ray_head_port}\"\n",
    "client = JobSubmissionClient(ray_address)"
   ]
  },
  {
   "cell_type": "code",
   "execution_count": 7,
   "id": "c78908eb-0ff0-46c6-8f22-9fa3c114853a",
   "metadata": {
    "tags": []
   },
   "outputs": [
    {
     "name": "stderr",
     "output_type": "stream",
     "text": [
      "2024-07-15 06:07:37,381\tINFO dashboard_sdk.py:338 -- Uploading package gcs://_ray_pkg_b78492fdea11c7d4.zip.\n",
      "2024-07-15 06:07:37,382\tINFO packaging.py:530 -- Creating a file package for local directory './'.\n"
     ]
    },
    {
     "name": "stdout",
     "output_type": "stream",
     "text": [
      "Ray job submitted with job_id: raysubmit_SJBrv3Cb9DGXn4PN\n",
      "2024-07-14 23:07:37,403\tINFO job_manager.py:530 -- Runtime env is setting up.\n",
      "2024-07-14 23:08:28.541383: I tensorflow/core/util/port.cc:110] oneDNN custom operations are on. You may see slightly different numerical results due to floating-point round-off errors from different computation orders. To turn them off, set the environment variable `TF_ENABLE_ONEDNN_OPTS=0`.\n",
      "2024-07-14 23:08:28.582176: I tensorflow/core/platform/cpu_feature_guard.cc:182] This TensorFlow binary is optimized to use available CPU instructions in performance-critical operations.\n",
      "To enable the following instructions: AVX2 AVX512F AVX512_VNNI FMA, in other operations, rebuild TensorFlow with the appropriate compiler flags.\n",
      "2024-07-14 23:08:29.943553: W tensorflow/compiler/tf2tensorrt/utils/py_utils.cc:38] TF-TRT Warning: Could not find TensorRT\n",
      "Num GPUs Available:  1\n",
      "TensorFlow will run on GPU.\n",
      "2024-07-14 23:08:32.217517: I tensorflow/core/common_runtime/gpu/gpu_device.cc:1639] Created device /job:localhost/replica:0/task:0/device:GPU:0 with 3234 MB memory:  -> device: 0, name: NVIDIA A100-PCIE-40GB MIG 1g.5gb, pci bus id: 0000:86:00.0, compute capability: 8.0\n",
      "input: (_Arg): /job:localhost/replica:0/task:0/device:GPU:0\n",
      "2024-07-14 23:08:32.244183: I tensorflow/core/common_runtime/placer.cc:114] input: (_Arg): /job:localhost/replica:0/task:0/device:GPU:0\n",
      "_EagerConst: (_EagerConst): /job:localhost/replica:0/task:0/device:GPU:0\n",
      "2024-07-14 23:08:32.244195: I tensorflow/core/common_runtime/placer.cc:114] _EagerConst: (_EagerConst): /job:localhost/replica:0/task:0/device:GPU:0\n",
      "output_RetVal: (_Retval): /job:localhost/replica:0/task:0/device:GPU:0\n",
      "2024-07-14 23:08:32.244199: I tensorflow/core/common_runtime/placer.cc:114] output_RetVal: (_Retval): /job:localhost/replica:0/task:0/device:GPU:0\n",
      "2024-07-14 23:08:32.279047: I tensorflow/core/common_runtime/eager/execute.cc:1678] Executing op _EagerConst in device /job:localhost/replica:0/task:0/device:GPU:0\n",
      "x: (_Arg): /job:localhost/replica:0/task:0/device:GPU:0\n",
      "2024-07-14 23:08:32.281067: I tensorflow/core/common_runtime/placer.cc:114] x: (_Arg): /job:localhost/replica:0/task:0/device:GPU:0\n",
      "Square: (Square): /job:localhost/replica:0/task:0/device:GPU:0\n",
      "2024-07-14 23:08:32.281077: I tensorflow/core/common_runtime/placer.cc:114] Square: (Square): /job:localhost/replica:0/task:0/device:GPU:0\n",
      "y_RetVal: (_Retval): /job:localhost/replica:0/task:0/device:GPU:0\n",
      "2024-07-14 23:08:32.281081: I tensorflow/core/common_runtime/placer.cc:114] y_RetVal: (_Retval): /job:localhost/replica:0/task:0/device:GPU:0\n",
      "2024-07-14 23:08:32.281974: I tensorflow/core/common_runtime/eager/execute.cc:1678] Executing op Square in device /job:localhost/replica:0/task:0/device:GPU:0\n",
      "Original data sample: [ 1  2  3  4  5  6  7  8  9 10]\n",
      "Squared data sample: [  1.   4.   9.  16.  25.  36.  49.  64.  81. 100.]\n",
      "\n"
     ]
    }
   ],
   "source": [
    "# Submit Ray job using JobSubmissionClient\n",
    "job_id = client.submit_job(\n",
    "    entrypoint=\"python ray-gpu-example.py\",\n",
    "    runtime_env={\n",
    "        \"working_dir\": \"./\",\n",
    "        \"pip\": [\"tensorflow==2.13.0\"],\n",
    "        # Add proxy in env_vars if required\n",
    "        \"env_vars\": {}      \n",
    "    },\n",
    "    entrypoint_num_gpus = 1,\n",
    "    entrypoint_num_cpus = 1\n",
    ")\n",
    "\n",
    "print(f\"Ray job submitted with job_id: {job_id}\")\n",
    "\n",
    "# Waiting for Ray to finish the job and print the result\n",
    "while True:\n",
    "    status = client.get_job_status(job_id)\n",
    "    if status in [ray.job_submission.JobStatus.RUNNING, ray.job_submission.JobStatus.PENDING]:\n",
    "        time.sleep(5)\n",
    "    else:\n",
    "        break\n",
    "try:\n",
    "    logs = client.get_job_logs(job_id) \n",
    "    print(logs)\n",
    "except RuntimeError as e:\n",
    "    print(f\"Failed to get job logs, please check logs on ray dashboard \")"
   ]
  },
  {
   "cell_type": "code",
   "execution_count": null,
   "id": "92f248b7-74d0-45fb-becf-01b8dfa5f6d8",
   "metadata": {
    "tags": []
   },
   "outputs": [],
   "source": [
    "# Disconnect from the Ray cluster\n",
    "ray.shutdown()"
   ]
  },
  {
   "cell_type": "code",
   "execution_count": null,
   "id": "4eee477f-a3c9-44c1-9804-b638b0769548",
   "metadata": {},
   "outputs": [],
   "source": []
  }
 ],
 "metadata": {
  "kernelspec": {
   "display_name": "Ray",
   "language": "python",
   "name": "ray"
  },
  "language_info": {
   "codemirror_mode": {
    "name": "ipython",
    "version": 3
   },
   "file_extension": ".py",
   "mimetype": "text/x-python",
   "name": "python",
   "nbconvert_exporter": "python",
   "pygments_lexer": "ipython3",
   "version": "3.11.6"
  }
 },
 "nbformat": 4,
 "nbformat_minor": 5
}
