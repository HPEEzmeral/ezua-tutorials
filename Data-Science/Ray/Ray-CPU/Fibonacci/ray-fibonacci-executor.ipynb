{
 "cells": [
  {
   "cell_type": "code",
   "execution_count": 1,
   "id": "cd86be08-8472-4536-9e7b-b3fed77d603c",
   "metadata": {
    "tags": []
   },
   "outputs": [],
   "source": [
    "# Imports\n",
    "import ray\n",
    "from ray.job_submission import JobSubmissionClient, JobStatus\n",
    "import time\n",
    "import subprocess"
   ]
  },
  {
   "cell_type": "code",
   "execution_count": 2,
   "id": "266b0916-61f6-4aa8-a71f-8dd36febb64b",
   "metadata": {
    "tags": []
   },
   "outputs": [],
   "source": [
    "# Ray cluster information for connection\n",
    "ray_head_ip = \"kuberay-head-svc.kuberay.svc.cluster.local\"\n",
    "ray_head_port = 8265\n",
    "ray_address = f\"http://{ray_head_ip}:{ray_head_port}\"\n",
    "client = JobSubmissionClient(ray_address)"
   ]
  },
  {
   "cell_type": "code",
   "execution_count": 3,
   "id": "99a82f81-af05-42ea-986f-881eb1cfffea",
   "metadata": {
    "tags": []
   },
   "outputs": [],
   "source": [
    "# Executors\n",
    "def local_submission(n):\n",
    "    print(\"Local submission:\")\n",
    "    command = [\"python\", \"ray-fibonacci-example.py\", n]\n",
    "    subprocess.run(command)\n",
    "\n",
    "def ray_submission(n, c):\n",
    "    print(\"Ray submission:\")\n",
    "    job_id = c.submit_job(\n",
    "        entrypoint=f\"python ray-fibonacci-example.py {n}\",\n",
    "        runtime_env={\n",
    "            \"working_dir\": \"./\", \n",
    "        },\n",
    "        entrypoint_num_cpus=3\n",
    "    )\n",
    "\n",
    "    # Waiting for Ray to finish the job and print the result\n",
    "    while True:\n",
    "        status = c.get_job_status(job_id)\n",
    "        if status in [ray.job_submission.JobStatus.RUNNING, ray.job_submission.JobStatus.PENDING]:\n",
    "            time.sleep(5)\n",
    "        else:\n",
    "            break\n",
    "    print(c.get_job_logs(job_id))"
   ]
  },
  {
   "cell_type": "code",
   "execution_count": 4,
   "id": "bfc51c05-1de3-413a-bfe6-73e812cb4979",
   "metadata": {
    "tags": []
   },
   "outputs": [
    {
     "name": "stderr",
     "output_type": "stream",
     "text": [
      "2024-03-13 19:04:29,411\tINFO dashboard_sdk.py:338 -- Uploading package gcs://_ray_pkg_3020e9c8b7845023.zip.\n",
      "2024-03-13 19:04:29,413\tINFO packaging.py:530 -- Creating a file package for local directory './'.\n"
     ]
    },
    {
     "name": "stdout",
     "output_type": "stream",
     "text": [
      "Local submission:\n",
      "Computation time for 1000 sequence is 0.01712322235107422\n",
      "Ray submission:\n",
      "Computation time for 1000 sequence is 0.03003239631652832\n",
      "\n"
     ]
    }
   ],
   "source": [
    "# Running Fibonacci with 1k squence\n",
    "sequence = \"1000\"\n",
    "\n",
    "# Local\n",
    "local_submission(sequence)\n",
    "\n",
    "# Ray\n",
    "ray_submission(sequence, client)"
   ]
  },
  {
   "cell_type": "code",
   "execution_count": 5,
   "id": "29020f6d-0383-4fa7-9492-848ed7bdab56",
   "metadata": {},
   "outputs": [
    {
     "name": "stdout",
     "output_type": "stream",
     "text": [
      "Local submission:\n"
     ]
    },
    {
     "name": "stderr",
     "output_type": "stream",
     "text": [
      "2024-03-13 19:05:08,937\tINFO dashboard_sdk.py:385 -- Package gcs://_ray_pkg_3020e9c8b7845023.zip already exists, skipping upload.\n"
     ]
    },
    {
     "name": "stdout",
     "output_type": "stream",
     "text": [
      "Computation time for 50000 sequence is 9.324785470962524\n",
      "Ray submission:\n",
      "Computation time for 50000 sequence is 4.688970327377319\n",
      "\n"
     ]
    }
   ],
   "source": [
    "# Running Fibonacci with 50k squence\n",
    "sequence = \"50000\"\n",
    "\n",
    "# Local\n",
    "local_submission(sequence)\n",
    "\n",
    "# Ray\n",
    "ray_submission(sequence, client)"
   ]
  },
  {
   "cell_type": "code",
   "execution_count": 46,
   "id": "24192f8a-e638-4b54-9d3e-8c7f89c58821",
   "metadata": {},
   "outputs": [],
   "source": [
    "# Disconnect from the Ray cluster\n",
    "ray.shutdown()"
   ]
  },
  {
   "cell_type": "code",
   "execution_count": null,
   "id": "ad1f4fee-da0a-4ab1-910a-e54f229ea3ad",
   "metadata": {},
   "outputs": [],
   "source": []
  }
 ],
 "metadata": {
  "kernelspec": {
   "display_name": "Ray",
   "language": "python",
   "name": "ray"
  },
  "language_info": {
   "codemirror_mode": {
    "name": "ipython",
    "version": 3
   },
   "file_extension": ".py",
   "mimetype": "text/x-python",
   "name": "python",
   "nbconvert_exporter": "python",
   "pygments_lexer": "ipython3",
   "version": "3.8.13"
  }
 },
 "nbformat": 4,
 "nbformat_minor": 5
}
