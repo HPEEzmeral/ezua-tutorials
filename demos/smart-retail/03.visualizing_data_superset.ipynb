{
 "cells": [
  {
   "cell_type": "markdown",
   "id": "86bac2dc-3599-441e-ab23-d952d84d1e24",
   "metadata": {
    "tags": []
   },
   "source": [
    "<img src=\"./images/logo.png\" alt=\"Drawing\" style=\"width: 500px;\"/>"
   ]
  },
  {
   "cell_type": "markdown",
   "id": "a074912e-a062-47a4-9d0a-e8a6a016dd73",
   "metadata": {
    "tags": []
   },
   "source": [
    "# **Exercise 3:** Visualizing Data with Superset\n",
    "\n",
    "In the previous two exercises, we generated a large amount of synthetic sales data and created a smaller dataset using the Query Editor and EzPresto. In this exercise, we will visualize insights within this smaller dataset with **Apache Superset**. Superset allows users to create interactive dashboards and visualizations from various data sources, making it a valuable tool for data analysis and exploration.\n",
    "\n",
    "In this exercise, you will:\n",
    "\n",
    "- Explore how to create a dataset from a cached data asset, ensuring efficient data retrieval and processing.\n",
    "- Learn to generate several types of charts, including bar charts, line charts, and scatter plots, to visualize different aspects of your data.\n",
    "- Combine these individual charts into a comprehensive dashboard, providing a holistic view of your data and facilitating insights and decision-making.\n",
    "\n",
    "By the end of this exercise, you will have the skills to leverage Superset effectively for data visualization, enabling you to communicate complex insights and trends with clarity and impact.\n",
    "\n",
    "Let's dive in and start visualizing data with Superset!"
   ]
  },
  {
   "cell_type": "markdown",
   "id": "d7c59497-d0f9-43a9-914c-185ae58818f9",
   "metadata": {
    "tags": []
   },
   "source": [
    "## **1. Connecting Superset to EzPresto**\n",
    "\n",
    "First, you will need to make the data assets available to Superset. As demonstrated throughout Exercise 2, **HPE Ezmeral Unified Analytics** leverages **EzPresto** to connect the Data Sources and Cached Assets to hosted applications. \n",
    "\n",
    "To create an EzPresto connection in Superset:\n"
   ]
  },
  {
   "cell_type": "markdown",
   "id": "86002862-4203-4e98-9836-f85744ddbf3c",
   "metadata": {
    "tags": []
   },
   "source": [
    "1. Navigate back to the Unified Analytics dashboard.\n",
    "1. In the sidebar navigation menu, select `Tools & Applications` > `Data Engineering`.\n",
    "1. Under `Superset`, click `Open`. Superset will now open in a new tab.\n",
    "1. In Superset, click the `+` button in the top-right corner.\n",
    "1. Under `Data`, click `Connect database`."
   ]
  },
  {
   "cell_type": "markdown",
   "id": "126fb4f7-85f2-43b4-8f4c-eeedc4b61a02",
   "metadata": {
    "tags": []
   },
   "source": [
    "<img src=\"./images/exercise3/DBConnections.png\" alt=\"Drawing\" style=\"width: 40%;\"/>"
   ]
  },
  {
   "cell_type": "markdown",
   "id": "efe6056d-8113-45c3-82a0-9b3b1515f5aa",
   "metadata": {
    "tags": []
   },
   "source": [
    "6. Click `Presto`\n",
    "7. In the `SQLAlchemy URI` field, enter the following: \n",
    "\n",
    "    `presto://ezpresto.<YOUR_DOMAIN>:443/cache`\n",
    " \n",
    "    Replace **< YOUR_DOMAIN >** with the domain name of your Unified Analytics cluster. (To find this, observe the URL of your Unified Analytics dashboard. It will be in the format of `https://home.<YOUR_DOMAIN>`"
   ]
  },
  {
   "cell_type": "markdown",
   "id": "d2989ad7-1624-4df1-bb52-b9a87872d537",
   "metadata": {
    "tags": []
   },
   "source": [
    "<img src=\"./images/exercise3/presto.png\" alt=\"Drawing\" style=\"width: 30%;\"/>"
   ]
  },
  {
   "cell_type": "markdown",
   "id": "305d800c-383c-4161-85bd-0db34a721334",
   "metadata": {
    "tags": []
   },
   "source": [
    "8. Click `Test Connection`. If the connection is successful, a message will appear in the bottom right corner stating that the 'Connection looks good!'\n",
    "9. Click `Connect`. "
   ]
  },
  {
   "cell_type": "markdown",
   "id": "2f34b061-c46d-4864-ad93-36367fd76695",
   "metadata": {
    "jp-MarkdownHeadingCollapsed": true,
    "tags": []
   },
   "source": [
    "<div class=\"alert alert-block alert-danger\">\n",
    "<b>Important</b> Make sure you finished Exercise 2 successfully before and have the name of your cached asset at hand\n",
    "</div>"
   ]
  },
  {
   "cell_type": "markdown",
   "id": "4be59379-6d08-426b-b759-80942d845b76",
   "metadata": {
    "tags": []
   },
   "source": [
    "## **2. Connecting Cached Assets to Superset**"
   ]
  },
  {
   "cell_type": "markdown",
   "id": "f01447dc-f972-4284-8242-bc7a63df516b",
   "metadata": {
    "tags": []
   },
   "source": [
    "In the first two Exercises, you synthetically generated sales data, ran an SQL query and saved the resulting dataset as a Cached Asset. Regardless of the data source or query, you are now equipped to work data into datasets for specific use cases and make those datasets (as Cached Assets) available to applications on Unified Analytics via EzPresto. This includes visualizing data through charts, graphs and maps on Superset. \n",
    "\n",
    "To visualize the sales dataset, which you saved as a Cached Asset, we must first add the Cached Asset as a **Dataset** in Superset.\n",
    "\n",
    "1. On the Superset home screen, click the `+` button in the top-right corner once again.\n",
    "1. Under `Data`, click `Create dataset`.\n",
    "1. Under `Database`, select `Presto`.\n",
    "1. Under `Schema`, select `retailschema`.\n",
    "1. Ensure the schema is correct. There should be **eleven** table columns."
   ]
  },
  {
   "cell_type": "markdown",
   "id": "ae627cae-fe24-4a37-abd4-b5d8775f8381",
   "metadata": {
    "tags": []
   },
   "source": [
    "image"
   ]
  },
  {
   "cell_type": "markdown",
   "id": "38cbce34-2303-4283-a2d5-819dd217aaf4",
   "metadata": {
    "tags": []
   },
   "source": [
    "6. Click `Create Dataset and Create Chart`.\n",
    "7. You have successfully added the Cached Asset as a Dataset in Superset. \n",
    "\n",
    "After clicking `Create Dataset and Create Chart`, you will automatically be presented with the 'Create Chart' menu. To understand how to get back to this window in the future to create more Charts, we'll navigate here a different way. \n",
    "\n",
    "Click the **Superset** logo in the top-left corner to return to the home screen."
   ]
  },
  {
   "cell_type": "markdown",
   "id": "7e7a7dbb-003b-424d-bb37-302ce6493c34",
   "metadata": {
    "tags": []
   },
   "source": [
    "## **3. Creating Data Charts**\n",
    "\n",
    "In Superset, a Chart is a visual representation of data created using various types of visualizations such as bar charts, line charts, and scatter plots. Users can easily create Charts by selecting the desired visualization type, specifying the data source and columns, and customizing various aspects of the chart's appearance. \n",
    "\n",
    "Let's create some Charts to visualize different aspects of sales data and gather some insights. \n",
    "\n"
   ]
  },
  {
   "cell_type": "markdown",
   "id": "563439dc-aad6-4055-a8a6-8324373c00ba",
   "metadata": {
    "tags": []
   },
   "source": [
    "### Creating a new Chart\n",
    "1. In the Superset home screen's top left navbar menu, select `Charts`. When you increase the number of data sources, datasets and subsequently, create many charts, you can use the fitler boxes at the top of the Charts table to filter and sort through all Charts. You can also import Charts others have made.\n",
    "2. Click `+ Chart` in the top-right corner.\n",
    "\n",
    "<img src=\"./images/exercise3/filters.png\" alt=\"Drawing\" style=\"width: 80%;\"/>"
   ]
  },
  {
   "cell_type": "markdown",
   "id": "d7518ffb-c157-4e02-9bdd-12edb79c950b",
   "metadata": {
    "tags": []
   },
   "source": [
    "### Selecting a Chart type\n",
    "1. Under 'Choose a dataset', select `retail`. \n",
    "\n",
    "Explore the Chart options by clicking on a few in this window. You can see what types of data are best represented by each type of Chart through the **grey tags** that appear in the bottom-left corner whenever you select a Chart. For our first chart, we are going to represent the **total sales and revenue of each country** using a **Bar chart**. \n",
    "\n",
    "<img src=\"./images/exercise3/charts.png\" alt=\"Drawing\" style=\"width: 60%;\"/>\n",
    "\n",
    "2. Select `Bar Chart` in the Chart options.\n",
    "3. Click `Create New Chart`."
   ]
  },
  {
   "cell_type": "markdown",
   "id": "fd411dc8-1156-4156-a9c1-13d33ecfaaca",
   "metadata": {
    "tags": []
   },
   "source": [
    "### Defining Chart Data\n",
    "\n",
    "Let's first take a quick tour of the Chart creation page:\n",
    "\n",
    "<img src=\"./images/exercise3/chartdetails.png\" alt=\"Drawing\" style=\"width: 40%;\"/>\n",
    "\n",
    "**1. Chart Name**: The Unique identifier for the chart. If you end up creating similar charts, identifying each variant with a number suffix is common practice (e.g. *German Sales Chart 3*.)\n",
    "\n",
    "**2. Chart Source**: Defines the data used in your chart. In the example, data comes from the table `retailschema.retail` from the `retail` dataset.\n",
    "\n",
    "**3. Chart Types**: Change the type of Chart you are creating. The most common chart types are provided as easy access icons. Clicking `View all charts` will bring up the full Chart Creation window that you saw earlier.\n",
    "\n",
    "**4. Search Metrics & Columns**: Search through the dataset to find the specific data be displayed in your chart. This is useful for very large datasets that can contain tens or even hundreds of columns. \n",
    "* **Metrics:** Represent numerical values derived using functions/queries (e.g., `f(x) SUM(totalsales)` will return the total number of sales for a given Column data, such as a particular product ID).\n",
    "* **Columns:** Represent categorical data (e.g., `# productid`).\n",
    "\n",
    "**5. X-Axis**: Configures the x-axis of your chart.\n",
    "* **X-Axis:** Defines the independent input variable (e.g. get the amount of sales (*output*) over this as time period (*input*), or get the total number (*output*) of an item (*input*) from this location (*input*)). \n",
    "* **X-Axis Sort By:** Defines how to sort data on the x-axis (e.g., sorting by `# productid` in ascending order).\n",
    "    \n",
    "**6. Metrics**: Numerical values you want to measure or analyze. \n",
    "* These are typically displayed on the y-axis of charts and represent quantities you want to visualize (e.g., total sales, average order value, customer count).\n",
    "\n",
    "**7. Dimensions**: Categorical attributes that define groups or categories within your data. \n",
    "* They are often used on the x-axis of charts to segment the data (e.g., product ID, customer name, region).\n",
    "* You can view Dimension data by hovering over bars or segments on graphs, where the axes may not specifically display that variable.\n",
    "\n",
    "**8. Filters**: Refine the data used in your chart by applying filters in the form of columns or metrics. \n",
    "* This helps you analyze trends or patterns within a particular segment. For example, you might filter a chart showing total sales by region to focus only on sales in \"Germany\".\n",
    "\n",
    "**9. Series Limit**: Sets a limit on the number of categories or groups (series) displayed in your chart.\n",
    "* When your chart displays data with many series, it can become cluttered. Applying a Series Limit helps you control the number of series displayed.\n",
    "\n",
    "**10. Sort By**: Define the order in which data is displayed within your chart.\n",
    "* Sorting by metrics can highlight categories with the highest or lowest values, while sorting by dimensions can group related data together."
   ]
  },
  {
   "cell_type": "markdown",
   "id": "0df5d4e1-ba0b-479a-908f-fce58d7f29be",
   "metadata": {
    "tags": []
   },
   "source": [
    "For our first chart, we will make a bar chart to visualize the **total sales** of the **top 10** selling **fruits** of each year in ascending order of total sales. \n",
    "\n",
    "Update your fields (including Chart Name) to match the following, then click `Update Chart`. The resulting Chart should look l\n",
    "\n",
    "<img src=\"./images/exercise3/firstchart.png\" alt=\"Drawing\" style=\"width: 80%;\"/>\n",
    "\n"
   ]
  },
  {
   "cell_type": "markdown",
   "id": "1f37a003-704e-45c5-a16e-f1486831260f",
   "metadata": {
    "tags": []
   },
   "source": [
    "Now, click `Save` in the top-right corner.\n",
    "\n",
    "In the appearing pop-up window, you will notice the `Add to Dashboard` field. After creating your first Dashboard, this is by far the easiest way to create Charts for a specific use case or presentation and quickly add it to a particular a Dashboard. Seeing as we don't currently have any Dashboards, the option to `Save and Go to Dashboard` is greyed out. \n",
    "\n",
    "Finally, click `Save`. With that, you've just created your first Superset chart!\n"
   ]
  },
  {
   "cell_type": "markdown",
   "id": "fbb41ac9-0a5f-4dbf-92a4-07cd16f1f766",
   "metadata": {
    "tags": []
   },
   "source": [
    "## **4. Creating a Superset Dashboard**"
   ]
  },
  {
   "cell_type": "markdown",
   "id": "286173b1-445e-46e4-a4e4-97f658e7cfeb",
   "metadata": {
    "tags": []
   },
   "source": [
    "A Superset Dashboard is a collection of charts and visualizations that provide a comprehensive overview of data insights. These dashboards can be used for monitoring key metrics, analyzing trends, and making data-driven decisions within organizations."
   ]
  },
  {
   "cell_type": "markdown",
   "id": "87f028bf-fd9a-4e7a-9c07-71fc038039b4",
   "metadata": {
    "tags": []
   },
   "source": [
    "1. In the Superset home screen's top-left navbar menu, select `Dashboards`. When you increase the number of Dashboards you have, you can use the fitler boxes at the top of the Dashboards table to filter and sort through them all. You can also import Dashboards others have made and connect your own Charts.\n",
    "2. Click `+ Dashboard` in the top-right corner.\n",
    "\n",
    "<img src=\"./images/exercise3/dashboardfilters.png\" alt=\"Drawing\" style=\"width: 90%;\"/>"
   ]
  },
  {
   "cell_type": "markdown",
   "id": "0f28b2dc-cf17-4cd6-b051-a219b2a23805",
   "metadata": {
    "tags": []
   },
   "source": [
    "3. Name your Dashboard `Retail Dashboard` with the field in the top-left corner (replace the default `[untitled dashboard]`).\n",
    "\n",
    "In the right-hand menu, under the `Charts` tab, is where you will see a complete list of all of your Charts. You can filter your charts by type, keyword and schema and sort them a number of ways. \n",
    "\n",
    "In the `Layout Elements` tab, you can add design elements such as headers, rows and columns, to label and present your Charts in whichever presentation you feel is best. \n",
    "\n",
    "4. Click on the `Layout Elements` tab. **Drag** a `Row` into the empty Dashboard field. \n",
    "5. Drag a `Header` above the Row and write *Fruit Sales*. \n",
    "6. Drag a `Divider` below the Row.  \n",
    "7. Now, click on the `Charts` layout tab. Drag the `Fruit Sales YoY` Chart into the Row. \n",
    "8. Click on the **right edge** of the `Fruit Sales YoY` Chart. You will see several blue columns appear across the Dashboard. These are equal dividers to assist with spacing between Charts. \n",
    "9. Drag the Chart to the furthest right column. It should snap into place.\n",
    "10. Click `Save` in the top-right corner. \n",
    "\n",
    "Your Dashboard should resemble the following: \n",
    "\n",
    "<img src=\"./images/exercise3/dashboard.png\" alt=\"Drawing\" style=\"width: 90%;\"/>\n",
    "\n",
    "11. Click on the `Dashboards` option in the top-left navbar menu. \n",
    "12. Confirm your newly-created Dashboard is visible in the Dashboards list. \n",
    "\n",
    "And with that, you've created your first Chart and Dashboard in Apache Superset! "
   ]
  },
  {
   "cell_type": "markdown",
   "id": "80fe2e24-41b9-4e4a-8844-aa2fc642f8a7",
   "metadata": {
    "tags": []
   },
   "source": [
    "## **5. Self-Learning Challenge: Add more Charts to your Retail Dashboard!**\n",
    "\n",
    "Leveraging the skills you have just acquired, let's explore the art of data analysis with Superset! \n",
    "\n",
    "**Create three of the following Charts from the following list below**.  \n",
    "\n",
    "Add each to your Retail Dashboard, styled as you wish!\n",
    "\n",
    "**Sales Performance**\n",
    "\n",
    "* **Bar Chart:** Visualize total sales by product category or country. This can reveal which categories or regions are driving the most sales.\n",
    "* **Line Chart:** Create a line graph showing the quantity of hammers sold between 2020 and 2023. Identify supplier bottlenecks or growth trends.\n",
    "\n",
    "**Product Analysis**\n",
    "\n",
    "* **Pie Chart:** Show the proportion of total sales for each country (Germany, Switzerland and the Czech Republic).\n",
    "* **Scatter Plot:** Explore the relationship between product price and total sales. This might reveal pricing trends or identify potential outliers.\n",
    "\n",
    "**Customer Insights**\n",
    "\n",
    "* **Histogram:** Analyze the country distribution of customer order values. This can help understand typical order sizes and identify high-spending customers.\n",
    "* **GeoJSON Map:** Plot the total sales of each country on a map. \n",
    "\n",
    "**Comparative Analysis**\n",
    "\n",
    "* **Dual Line Chart:** Compare sales trends between different product types. This can highlight performance differences between product categories.\n",
    "* **Stacked Bar Chart:** Visualize total sales by product type and further break down each category by another variable, such as country or stores in a country.\n",
    "\n",
    "**Additional Tips:**\n",
    "\n",
    "* Consider using filters to focus on specific product categories, regions, or timeframes.\n",
    "* Leverage Sorting and Series Limit options to enhance readability and focus on crucial insights.\n",
    "* Experiment with different chart types to find the best way to represent your data.\n",
    "\n",
    "By using Apache Superset's features and exploring various chart options, you can create compelling data visualizations that reveal valuable insights from your retail schema.\n"
   ]
  },
  {
   "cell_type": "markdown",
   "id": "6f8a0201-8960-4fd3-ba6c-f87361228c5a",
   "metadata": {
    "tags": []
   },
   "source": [
    "# **Conclusion**\n",
    "\n",
    "In this exercise, you entered the world of data analytics - working with data to tell a visual story. You learned how to navigate Apache Superset, create and manage Charts, and make custom Dashboards fit for a C-suite presentation.\n",
    "\n",
    "In the next exercise, we will take a slightly different route and delve into using machine learning to create a produce detection model that will form the basis of our final end product - a cashierless, barcodeless checkout experience! "
   ]
  },
  {
   "cell_type": "code",
   "execution_count": null,
   "id": "299669f2-a7a6-4fbe-a62f-559b50a05f97",
   "metadata": {},
   "outputs": [],
   "source": []
  }
 ],
 "metadata": {
  "kernelspec": {
   "display_name": "Python 3 (ipykernel)",
   "language": "python",
   "name": "python3"
  },
  "language_info": {
   "codemirror_mode": {
    "name": "ipython",
    "version": 3
   },
   "file_extension": ".py",
   "mimetype": "text/x-python",
   "name": "python",
   "nbconvert_exporter": "python",
   "pygments_lexer": "ipython3",
   "version": "3.11.6"
  }
 },
 "nbformat": 4,
 "nbformat_minor": 5
}
