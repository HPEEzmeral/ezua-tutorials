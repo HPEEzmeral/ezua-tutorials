{
 "cells": [
  {
   "cell_type": "markdown",
   "id": "801896dd-7519-4344-8cac-2a9e6ce22a74",
   "metadata": {
    "tags": []
   },
   "source": [
    "<img src=\"./images/logo.png\" alt=\"Drawing\" style=\"width: 500px;\"/>"
   ]
  },
  {
   "cell_type": "markdown",
   "id": "86bac2dc-3599-441e-ab23-d952d84d1e24",
   "metadata": {
    "tags": []
   },
   "source": [
    "# **Introduction**\n",
    "\n",
    "You are a newly-promoted data scientist at one of Europe's leading grocery chains. You in charge of ingesting and presenting all of the sales numbers from stores in several countries to gather crucial insights into what customers like and how they shop such that the business can operate more effectively. Whilst presenting to your executives, you have been asked to come up with a new idea for the self-serve checkout experience that leverages vision-based machine learning - an exciting, futuristic and **smart** way to shop. \n",
    "\n",
    "To make this experience a reality for customers, we'll first need to understand how they shop. You will learn to leverage **Apache Spark** and its powerful distributed processing capabilities to analyze sales information and uncover insights of sales data across stores from three major European countries. You will then learn how to build, store and manage datasets from the sales data you pulled and serve them to other applications using **EzPresto**, which will allow you to build a dashboard using **Apache Superset** to display these datasets in a professional and modular manner. \n",
    "\n",
    "You will then learn how to train an object recognition model using **Tensorflow** and learn to optimize a scalable and collaborative machine learning workflow using **MLflow**. From there, you will learn to serve your newly-created model at scale - hundreds of self-serve checkouts in multiple stores across several countries - using **Kserve** on **Kubeflow**. We will then deploy the application that every self-serve checkout can run at scale that inference this model and deliver a smart retail experience for thousands of customers!\n",
    "\n",
    "All of these applications will be running natively within a clean installation of **HPE Ezmeral Unified Analytics** - no further setup required to get these best-in-class open-source tools to connect and leverage one another.\n",
    "\n",
    "Let's get started!"
   ]
  },
  {
   "cell_type": "markdown",
   "id": "48e6a15a-921c-4c2b-bd96-c4cf08fd9402",
   "metadata": {
    "tags": []
   },
   "source": [
    "# **Prerequisites**"
   ]
  },
  {
   "cell_type": "markdown",
   "id": "d8896bc1-8804-4b4a-ab4b-9a59f2a808aa",
   "metadata": {
    "tags": []
   },
   "source": [
    "1. **Before running exercise notebooks**, open a new tab and start a new **Terminal** session. \n",
    "1. Ensure you are in the same directory path as this notebook.\n",
    "1. Run `pip install -r requirements.txt`. Where applicable, ensure your environment proxy settings are set. "
   ]
  },
  {
   "cell_type": "markdown",
   "id": "6ed95f26-3b1a-4ead-80e9-404ad70171bd",
   "metadata": {
    "tags": []
   },
   "source": [
    "# **Contents**\n",
    "\n",
    "<a href=\"./01.exploring_data_with_spark.ipynb\" style=\"color: black\"><b style=\"color: #01a982;\">Exercise 1:</b> Exploring Sales Data with Apache Spark</a>\n",
    "\n",
    "<a href=\"./02.query_with_ezpreso.ipynb\" style=\"color: black\"><b style=\"color: #01a982;\">Exercise 2:</b> Connecting and Querying Data Sources with EzPresto</a>\n",
    "\n",
    "<a href=\"./03.visualizing_data_superset.ipynb\" style=\"color: black\"><b style=\"color: #01a982;\">Exercise 3:</b> Visualizing Data with Superset</a>\n",
    "\n",
    "<a href=\"./04.model_training.ipynb\" style=\"color: black\"><b style=\"color: #01a982;\">Exercise 4:</b> Building a Image Classification Model with Tensorflow and MLflow</a>\n",
    "\n",
    "<a href=\"./05.working_in_mlflow.ipynb\" style=\"color: black\"><b style=\"color: #01a982;\">Exercise 5:</b> Tracking, Registering and Inferencing Models in MLflow</a>\n",
    "\n",
    "<a href=\"./06.serve_model_kserve.ipynb\" style=\"color: black\"><b style=\"color: #01a982;\">Exercise 6:</b> Serving your model with Kserve</a>\n",
    "\n",
    "<a href=\"./07.deploying_retail_application.ipynb\" style=\"color: black\"><b style=\"color: #01a982;\">Exercise 7:</b> Deploying Custom Applications on HPE Ezmeral Unified Analytics</a>\n"
   ]
  },
  {
   "cell_type": "markdown",
   "id": "c122ceda-c34c-4e31-abe2-60c2be2bbedf",
   "metadata": {
    "tags": []
   },
   "source": [
    "# **Acknowledgements**"
   ]
  },
  {
   "cell_type": "markdown",
   "id": "7282ab25-1d87-4c74-8c1c-d792775a363d",
   "metadata": {
    "tags": []
   },
   "source": [
    "The Smart Retail Experience technical demonstration was written and prepared by Alex Ollman.\n",
    "\n",
    "This technical demonstartion is an adaptation from the *Retail Demo* developed by Dirk Derichsweiler, Isabelle Steinhauser and Vincent Charbonnier of the HPE Ezmeral DACH Solutions Achitect team. Their collective assistance over various timezones in bringing this adaptation of their work to life is beyond appreciated. \n",
    "\n",
    "Special thanks to Simhan Naveenam and Dimitrios Poulopoulos for their troubleshooting and guidance over several sessions and learning an incredible amount from each one. \n"
   ]
  },
  {
   "cell_type": "code",
   "execution_count": null,
   "id": "d841061e-580e-4ae8-85d3-34b318c371e8",
   "metadata": {},
   "outputs": [],
   "source": []
  }
 ],
 "metadata": {
  "kernelspec": {
   "display_name": "Python 3 (ipykernel)",
   "language": "python",
   "name": "python3"
  },
  "language_info": {
   "codemirror_mode": {
    "name": "ipython",
    "version": 3
   },
   "file_extension": ".py",
   "mimetype": "text/x-python",
   "name": "python",
   "nbconvert_exporter": "python",
   "pygments_lexer": "ipython3",
   "version": "3.11.6"
  }
 },
 "nbformat": 4,
 "nbformat_minor": 5
}
